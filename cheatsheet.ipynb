{
 "cells": [
  {
   "cell_type": "markdown",
   "metadata": {},
   "source": [
    "# Unix command-line tools: groove on your data like it's 1971"
   ]
  },
  {
   "cell_type": "markdown",
   "metadata": {},
   "source": [
    "#### OS X et Linux :\n",
    "* Les outils Unix standard sont installés par défaut et accessibles dans le terminal\n",
    "\n",
    "#### Windows :\n",
    "* Installer  (inclus avec Git) : https://msysgit.github.io \n",
    "* Lancer Git Bash (rechercher `git bash` dans le menu Démarrer)"
   ]
  },
  {
   "cell_type": "markdown",
   "metadata": {},
   "source": [
    "## Commandes de base"
   ]
  },
  {
   "cell_type": "markdown",
   "metadata": {},
   "source": [
    "### `pwd` (*print working directory*)"
   ]
  },
  {
   "cell_type": "code",
   "execution_count": 1,
   "metadata": {
    "collapsed": false
   },
   "outputs": [
    {
     "name": "stdout",
     "output_type": "stream",
     "text": [
      "/Users/arnaudrenaudfullsix/Google Drive/command-line-basics\r\n"
     ]
    }
   ],
   "source": [
    "# Afficher le chemin du répertoire courant\n",
    "!pwd"
   ]
  },
  {
   "cell_type": "markdown",
   "metadata": {},
   "source": [
    "### <code>cd</code> (<i>change directory</i>)"
   ]
  },
  {
   "cell_type": "code",
   "execution_count": 2,
   "metadata": {
    "collapsed": true
   },
   "outputs": [],
   "source": [
    "# Changer de répertoire courant en se plaçant dans le sous-répertoire wikipedia_dataset"
   ]
  },
  {
   "cell_type": "code",
   "execution_count": 3,
   "metadata": {
    "collapsed": false
   },
   "outputs": [
    {
     "name": "stdout",
     "output_type": "stream",
     "text": [
      "/Users/arnaudrenaudfullsix/Google Drive/command-line-basics/wikipedia_dataset\n"
     ]
    }
   ],
   "source": [
    "cd wikipedia_dataset"
   ]
  },
  {
   "cell_type": "markdown",
   "metadata": {},
   "source": [
    "### <code>ls</code> (<i>list directory contents</i>)"
   ]
  },
  {
   "cell_type": "code",
   "execution_count": 4,
   "metadata": {
    "collapsed": false
   },
   "outputs": [
    {
     "name": "stdout",
     "output_type": "stream",
     "text": [
      "doi_and_pubmed_citations.enwiki_20150112.tsv doi_isbn_and_pubmed.enwiki_20150205.tsv\r\n",
      "doi_and_pubmed_citations.enwiki_20150205.tsv pubmed_citations.enwiki_20150112.tsv\r\n"
     ]
    }
   ],
   "source": [
    "# Afficher les fichiers et les sous-répertoires du répertoire courant\n",
    "!ls"
   ]
  },
  {
   "cell_type": "code",
   "execution_count": 5,
   "metadata": {
    "collapsed": false
   },
   "outputs": [
    {
     "name": "stdout",
     "output_type": "stream",
     "text": [
      "total 962392\r\n",
      "-rw-r--r--@ 1 arnaudrenaudfullsix  staff  101337899 Feb  9 18:29 doi_and_pubmed_citations.enwiki_20150112.tsv\r\n",
      "-rw-r--r--@ 1 arnaudrenaudfullsix  staff  101763529 Mar  9 17:02 doi_and_pubmed_citations.enwiki_20150205.tsv\r\n",
      "-rw-r--r--@ 1 arnaudrenaudfullsix  staff  252046963 Apr  6 18:03 doi_isbn_and_pubmed.enwiki_20150205.tsv\r\n",
      "-rw-r--r--@ 1 arnaudrenaudfullsix  staff   37589923 Feb  3 01:28 pubmed_citations.enwiki_20150112.tsv\r\n"
     ]
    }
   ],
   "source": [
    "# Même chose avec des informations supplémentaires\n",
    "!ls -l"
   ]
  },
  {
   "cell_type": "markdown",
   "metadata": {},
   "source": [
    "There are four files. Let's take a quick look at what's inside."
   ]
  },
  {
   "cell_type": "markdown",
   "metadata": {},
   "source": [
    "## Commandes de manipulation de données"
   ]
  },
  {
   "cell_type": "markdown",
   "metadata": {},
   "source": [
    "### <code>head</code> et <code>tail</code>"
   ]
  },
  {
   "cell_type": "code",
   "execution_count": 6,
   "metadata": {
    "collapsed": false
   },
   "outputs": [
    {
     "name": "stdout",
     "output_type": "stream",
     "text": [
      "page_id\tpage_title\trev_id\ttimestamp\ttype\tid\r\n",
      "1015863\tContingent valuation\t609087410\t2014-05-18T12:33:42Z\tdoi\t10.1257/jep.8.4.45\r\n",
      "1081235\tLava dome\t215463764\t2008-05-28T09:21:09Z\tdoi\t10.1016/S0012-821X(97)00109-X\r\n",
      "1081235\tLava dome\t518505477\t2012-10-18T12:56:13Z\tdoi\t10.1038/46950\r\n",
      "1081235\tLava dome\t215463764\t2008-05-28T09:21:09Z\tdoi\t10.1016/0377-0273(83)90064-1\r\n",
      "1677742\tWu Jingzi\t214641213\t2008-05-24T15:20:40Z\tdoi\t10.2307/2652696\r\n",
      "1934322\tKamerlingh Onnes (crater)\t614821029\t2014-06-29T00:02:07Z\tdoi\t10.1007/BF00171763\r\n",
      "1232227\tCannabivarin\t513693453\t2012-09-20T11:53:09Z\tdoi\t10.1002/jps.2600641033/metrics\r\n",
      "1232227\tCannabivarin\t513693453\t2012-09-20T11:53:09Z\tdoi\t10.1002/jps.2600641033\r\n",
      "1081285\tPoint set triangulation\t560066307\t2013-06-15T20:38:51Z\tdoi\t10.1109/SFCS.1991.185400\r\n"
     ]
    }
   ],
   "source": [
    "# Afficher les 10 premières lignes d'un fichier\n",
    "!head doi_and_pubmed_citations.enwiki_20150112.tsv"
   ]
  },
  {
   "cell_type": "markdown",
   "metadata": {},
   "source": [
    "We can see the first row has six columns (`page_id`, `page_title`, `rev_id`, `timestamp`, `type` and `id`) and nine rows of data below."
   ]
  },
  {
   "cell_type": "code",
   "execution_count": 7,
   "metadata": {
    "collapsed": false,
    "scrolled": true
   },
   "outputs": [
    {
     "name": "stdout",
     "output_type": "stream",
     "text": [
      "892865\tEssential thrombocythaemia\t608184756\t2014-05-12T06:44:17Z\tpmid\t23668666\r\n",
      "892865\tEssential thrombocythaemia\t608184756\t2014-05-12T06:44:17Z\tpmid\t19357394\r\n",
      "892865\tEssential thrombocythaemia\t608184756\t2014-05-12T06:44:17Z\tpmid\t19636672\r\n",
      "892899\tParsing expression grammar\t376288420\t2010-07-30T17:03:03Z\tdoi\t10.1145/964001.964011\r\n",
      "892899\tParsing expression grammar\t292019066\t2009-05-24T14:40:07Z\tdoi\t10.1145/1408681.1408683\r\n",
      "893037\tRoad rage\t567468999\t2013-08-06T23:58:24Z\tpmc\t2922361\r\n",
      "893073\tKermadec Islands\t522898545\t2012-11-13T22:41:32Z\tdoi\t10.1080/03014223.2003.9518348\r\n",
      "893073\tKermadec Islands\t522898545\t2012-11-13T22:41:32Z\tdoi\t10.1017/S1464793102006061\r\n",
      "893122\tExtreme physical information\t591171539\t2014-01-17T20:37:14Z\tdoi\t10.1103/PhysRevE.88.042144\r\n",
      "893122\tExtreme physical information\t59688501\t2006-06-20T20:48:48Z\tdoi\t10.1016/j.ecolmodel.2003.12.045\r\n"
     ]
    }
   ],
   "source": [
    "# Afficher les 10 dernières lignes d'un fichier\n",
    "!tail doi_and_pubmed_citations.enwiki_20150112.tsv"
   ]
  },
  {
   "cell_type": "markdown",
   "metadata": {},
   "source": [
    "### <code>wc</code> (<i>word, line, character, and byte count</i>)"
   ]
  },
  {
   "cell_type": "code",
   "execution_count": 8,
   "metadata": {
    "collapsed": false,
    "scrolled": true
   },
   "outputs": [
    {
     "name": "stdout",
     "output_type": "stream",
     "text": [
      " 1291573 doi_and_pubmed_citations.enwiki_20150112.tsv\r\n"
     ]
    }
   ],
   "source": [
    "# Compter et afficher le nombre de lignes d'un fichier\n",
    "!wc -l doi_and_pubmed_citations.enwiki_20150112.tsv"
   ]
  },
  {
   "cell_type": "code",
   "execution_count": 9,
   "metadata": {
    "collapsed": false
   },
   "outputs": [
    {
     "name": "stdout",
     "output_type": "stream",
     "text": [
      " 1291573 doi_and_pubmed_citations.enwiki_20150112.tsv\n",
      " 1296282 doi_and_pubmed_citations.enwiki_20150205.tsv\n",
      " 3273255 doi_isbn_and_pubmed.enwiki_20150205.tsv\n",
      "  549098 pubmed_citations.enwiki_20150112.tsv\n",
      " 6410208 total\n"
     ]
    }
   ],
   "source": [
    "# Compter et afficher le nombre de lignes de chaque fichier .tsv\n",
    "!wc -l *"
   ]
  },
  {
   "cell_type": "code",
   "execution_count": 10,
   "metadata": {
    "collapsed": false,
    "scrolled": false
   },
   "outputs": [
    {
     "name": "stdout",
     "output_type": "stream",
     "text": [
      "==> doi_and_pubmed_citations.enwiki_20150112.tsv <==\r\n",
      "page_id\tpage_title\trev_id\ttimestamp\ttype\tid\r\n",
      "1015863\tContingent valuation\t609087410\t2014-05-18T12:33:42Z\tdoi\t10.1257/jep.8.4.45\r\n",
      "1081235\tLava dome\t215463764\t2008-05-28T09:21:09Z\tdoi\t10.1016/S0012-821X(97)00109-X\r\n",
      "1081235\tLava dome\t518505477\t2012-10-18T12:56:13Z\tdoi\t10.1038/46950\r\n",
      "1081235\tLava dome\t215463764\t2008-05-28T09:21:09Z\tdoi\t10.1016/0377-0273(83)90064-1\r\n",
      "1677742\tWu Jingzi\t214641213\t2008-05-24T15:20:40Z\tdoi\t10.2307/2652696\r\n",
      "1934322\tKamerlingh Onnes (crater)\t614821029\t2014-06-29T00:02:07Z\tdoi\t10.1007/BF00171763\r\n",
      "1232227\tCannabivarin\t513693453\t2012-09-20T11:53:09Z\tdoi\t10.1002/jps.2600641033/metrics\r\n",
      "1232227\tCannabivarin\t513693453\t2012-09-20T11:53:09Z\tdoi\t10.1002/jps.2600641033\r\n",
      "1081285\tPoint set triangulation\t560066307\t2013-06-15T20:38:51Z\tdoi\t10.1109/SFCS.1991.185400\r\n",
      "\r\n",
      "==> doi_and_pubmed_citations.enwiki_20150205.tsv <==\r\n",
      "page_id\tpage_title\trev_id\ttimestamp\ttype\tid\r\n",
      "1086263\tRobert Wedderburn (radical)\t376446551\t2010-07-31T16:51:45Z\tdoi\t10.1080/01440398608574906\r\n",
      "1431727\tTrần Thiện Khiêm\t609491089\t2014-05-21T07:40:19Z\tdoi\t10.2307/2757066\r\n",
      "1431727\tTrần Thiện Khiêm\t592364629\t2014-01-25T19:24:09Z\tdoi\t10.1017/S0026749X04001295\r\n",
      "1431727\tTrần Thiện Khiêm\t610778568\t2014-05-30T11:48:51Z\tdoi\t10.1017/s0026749x07002855\r\n",
      "1017807\tGällivare\t247665625\t2008-10-25T23:05:33Z\tpmid\t16768023\r\n",
      "1512013\tWald's equation\t214602293\t2008-05-24T10:10:39Z\tdoi\t10.1214/aoms/1177731235\r\n",
      "1512013\tWald's equation\t281232642\t2009-04-02T05:18:53Z\tdoi\t10.1214/074921706000001067\r\n",
      "1512013\tWald's equation\t590000681\t2014-01-10T00:08:15Z\tdoi\t10.1007/0-387-29548-8_2\r\n",
      "1512013\tWald's equation\t394825096\t2010-11-04T17:57:50Z\tdoi\t10.1214/aoms/1177731092\r\n",
      "\r\n",
      "==> doi_isbn_and_pubmed.enwiki_20150205.tsv <==\r\n",
      "page_id\tpage_title\trev_id\ttimestamp\ttype\tid\r\n",
      "972037\tFireflash\t416710586\t2011-03-02T09:44:39Z\tisbn\t1576073459\r\n",
      "1086263\tRobert Wedderburn (radical)\t376445172\t2010-07-31T16:41:42Z\tisbn\t0521307554\r\n",
      "1086263\tRobert Wedderburn (radical)\t376628944\t2010-08-01T18:49:23Z\tisbn\t0814794564\r\n",
      "1086263\tRobert Wedderburn (radical)\t376446551\t2010-07-31T16:51:45Z\tdoi\t10.1080/01440398608574906\r\n",
      "972038\tDe Havilland Firestreak\t408580981\t2011-01-18T13:14:43Z\tisbn\t9781857802580\r\n",
      "972038\tDe Havilland Firestreak\t416708979\t2011-03-02T09:24:23Z\tisbn\t1852605413\r\n",
      "972038\tDe Havilland Firestreak\t416708979\t2011-03-02T09:24:23Z\tisbn\t1576073459\r\n",
      "1512005\tJohn Kovalic\t578333656\t2013-10-22T23:42:21Z\tisbn\t9781907702587\r\n",
      "1512005\tJohn Kovalic\t639125373\t2014-12-22T02:23:19Z\tisbn\t9781932442960\r\n",
      "\r\n",
      "==> pubmed_citations.enwiki_20150112.tsv <==\r\n",
      "page_id\tpage_title\trev_id\ttimestamp\ttype\tid\r\n",
      "1325125\tClub cell\t282470030\t2009-04-08T01:52:20Z\tpmid\t18179694\r\n",
      "1325125\tClub cell\t385367462\t2010-09-17T15:05:47Z\tpmid\t20223917\r\n",
      "1325125\tClub cell\t552727110\t2013-04-29T14:05:24Z\tpmid\t23276834\r\n",
      "1325125\tClub cell\t352567087\t2010-03-28T17:30:02Z\tpmc\t1456166\r\n",
      "1325125\tClub cell\t552727110\t2013-04-29T14:05:24Z\tpmid\t22790912\r\n",
      "1325125\tClub cell\t282470417\t2009-04-08T01:54:54Z\tpmc\t33880\r\n",
      "1325125\tClub cell\t282470417\t2009-04-08T01:54:54Z\tpmid\t9707539\r\n",
      "1325125\tClub cell\t282470030\t2009-04-08T01:52:20Z\tpmc\t2249579\r\n",
      "1325125\tClub cell\t352567087\t2010-03-28T17:30:02Z\tpmid\t16157679\r\n"
     ]
    }
   ],
   "source": [
    "# Afficher les 10 premières lignes de chaque fichier .tsv\n",
    "!head *.tsv"
   ]
  },
  {
   "cell_type": "markdown",
   "metadata": {},
   "source": [
    "All four files have the same columns, including a `timestamp` column.\n",
    "\n",
    "**Let's extract the year from the timestamp and split the data into as many files as there are years.**"
   ]
  },
  {
   "cell_type": "markdown",
   "metadata": {},
   "source": [
    "### <code>sed</code> (<i>stream editor</i>)"
   ]
  },
  {
   "cell_type": "code",
   "execution_count": 12,
   "metadata": {
    "collapsed": false
   },
   "outputs": [],
   "source": [
    "# Supprimer l'en-tête des fichiers .tsv ('1d' = \"delete line number 1\", '-i' = \"in-place\")"
   ]
  },
  {
   "cell_type": "code",
   "execution_count": 11,
   "metadata": {
    "collapsed": true
   },
   "outputs": [],
   "source": [
    "# Unix (écrire une copie des fichiers originaux en leur ajoutant l'extension .original\n",
    "!sed -i '.original' '1d' *.tsv"
   ]
  },
  {
   "cell_type": "code",
   "execution_count": null,
   "metadata": {
    "collapsed": true
   },
   "outputs": [],
   "source": [
    "# Windows (il n'est pas possible de spécifier un nom pour la copie des fichiers originaux)\n",
    "!sed -i \"1d\" *.tsv"
   ]
  },
  {
   "cell_type": "code",
   "execution_count": 12,
   "metadata": {
    "collapsed": false,
    "scrolled": true
   },
   "outputs": [
    {
     "name": "stdout",
     "output_type": "stream",
     "text": [
      "total 1924784\r\n",
      "-rw-r--r--  1 arnaudrenaudfullsix  staff  101337855 Apr 10 16:03 doi_and_pubmed_citations.enwiki_20150112.tsv\r\n",
      "-rw-r--r--@ 1 arnaudrenaudfullsix  staff  101337899 Feb  9 18:29 doi_and_pubmed_citations.enwiki_20150112.tsv.original\r\n",
      "-rw-r--r--  1 arnaudrenaudfullsix  staff  101763529 Apr 10 16:03 doi_and_pubmed_citations.enwiki_20150205.tsv\r\n",
      "-rw-r--r--@ 1 arnaudrenaudfullsix  staff  101763529 Mar  9 17:02 doi_and_pubmed_citations.enwiki_20150205.tsv.original\r\n",
      "-rw-r--r--  1 arnaudrenaudfullsix  staff  252046964 Apr 10 16:03 doi_isbn_and_pubmed.enwiki_20150205.tsv\r\n",
      "-rw-r--r--@ 1 arnaudrenaudfullsix  staff  252046963 Apr  6 18:03 doi_isbn_and_pubmed.enwiki_20150205.tsv.original\r\n",
      "-rw-r--r--  1 arnaudrenaudfullsix  staff   37589923 Apr 10 16:03 pubmed_citations.enwiki_20150112.tsv\r\n",
      "-rw-r--r--@ 1 arnaudrenaudfullsix  staff   37589923 Feb  3 01:28 pubmed_citations.enwiki_20150112.tsv.original\r\n"
     ]
    }
   ],
   "source": [
    "!ls -l"
   ]
  },
  {
   "cell_type": "code",
   "execution_count": 13,
   "metadata": {
    "collapsed": false
   },
   "outputs": [
    {
     "name": "stdout",
     "output_type": "stream",
     "text": [
      "1015863\tContingent valuation\t609087410\t2014-05-18T12:33:42Z\tdoi\t10.1257/jep.8.4.45\r\n",
      "1081235\tLava dome\t215463764\t2008-05-28T09:21:09Z\tdoi\t10.1016/S0012-821X(97)00109-X\r\n",
      "1081235\tLava dome\t518505477\t2012-10-18T12:56:13Z\tdoi\t10.1038/46950\r\n",
      "1081235\tLava dome\t215463764\t2008-05-28T09:21:09Z\tdoi\t10.1016/0377-0273(83)90064-1\r\n",
      "1677742\tWu Jingzi\t214641213\t2008-05-24T15:20:40Z\tdoi\t10.2307/2652696\r\n",
      "1934322\tKamerlingh Onnes (crater)\t614821029\t2014-06-29T00:02:07Z\tdoi\t10.1007/BF00171763\r\n",
      "1232227\tCannabivarin\t513693453\t2012-09-20T11:53:09Z\tdoi\t10.1002/jps.2600641033/metrics\r\n",
      "1232227\tCannabivarin\t513693453\t2012-09-20T11:53:09Z\tdoi\t10.1002/jps.2600641033\r\n",
      "1081285\tPoint set triangulation\t560066307\t2013-06-15T20:38:51Z\tdoi\t10.1109/SFCS.1991.185400\r\n",
      "1081285\tPoint set triangulation\t632378841\t2014-11-04T04:57:19Z\tdoi\t10.1137/0913058\r\n"
     ]
    }
   ],
   "source": [
    "!head doi_and_pubmed_citations.enwiki_20150112.tsv"
   ]
  },
  {
   "cell_type": "markdown",
   "metadata": {},
   "source": [
    "### <code>cat</code> (<i>concatenate and print files</i>)"
   ]
  },
  {
   "cell_type": "code",
   "execution_count": 14,
   "metadata": {
    "collapsed": false
   },
   "outputs": [],
   "source": [
    "# Concaténer les fichiers .tsv et écrire le résultat dans le fichier all_logs.tsv\n",
    "!cat *.tsv > all_doi_and_pubmed_citations.tsv"
   ]
  },
  {
   "cell_type": "code",
   "execution_count": 15,
   "metadata": {
    "collapsed": false,
    "scrolled": true
   },
   "outputs": [
    {
     "name": "stdout",
     "output_type": "stream",
     "text": [
      "-rw-r--r--  1 arnaudrenaudfullsix  staff  492738271 Apr 10 16:03 all_doi_and_pubmed_citations.tsv\r\n",
      "-rw-r--r--  1 arnaudrenaudfullsix  staff  101337855 Apr 10 16:03 doi_and_pubmed_citations.enwiki_20150112.tsv\r\n",
      "-rw-r--r--  1 arnaudrenaudfullsix  staff  101763529 Apr 10 16:03 doi_and_pubmed_citations.enwiki_20150205.tsv\r\n",
      "-rw-r--r--  1 arnaudrenaudfullsix  staff  252046964 Apr 10 16:03 doi_isbn_and_pubmed.enwiki_20150205.tsv\r\n",
      "-rw-r--r--  1 arnaudrenaudfullsix  staff   37589923 Apr 10 16:03 pubmed_citations.enwiki_20150112.tsv\r\n"
     ]
    }
   ],
   "source": [
    "!ls -l *.tsv"
   ]
  },
  {
   "cell_type": "markdown",
   "metadata": {},
   "source": [
    "### <code>cut</code> (<i>cut out selected portions of each line of a file</i>)"
   ]
  },
  {
   "cell_type": "code",
   "execution_count": 21,
   "metadata": {
    "collapsed": false
   },
   "outputs": [],
   "source": [
    "# Sélectionner la colonne de la date à chaque ligne (cut) et en extraire l'année (les quatres premiers chiffres) (grep -o) \n",
    "# Ecrire les années dans un fichier à part"
   ]
  },
  {
   "cell_type": "code",
   "execution_count": null,
   "metadata": {
    "collapsed": true
   },
   "outputs": [],
   "source": [
    "# Unix\n",
    "!cut -f4 all_doi_and_pubmed_citations.tsv | grep -E -o ^[0-9]{4} > years.txt"
   ]
  },
  {
   "cell_type": "code",
   "execution_count": null,
   "metadata": {
    "collapsed": true
   },
   "outputs": [],
   "source": [
    "# Windows (basic regular expressions)\n",
    "!cut -f4 all_doi_and_pubmed_citations.tsv | grep -o ^[0-9]\\{4\\} > years.txt"
   ]
  },
  {
   "cell_type": "markdown",
   "metadata": {},
   "source": [
    "### `sort` (*sort lines of text files*)\n",
    "### `uniq` (*report or filter out repeated lines in a file*)"
   ]
  },
  {
   "cell_type": "code",
   "execution_count": 23,
   "metadata": {
    "collapsed": false
   },
   "outputs": [
    {
     "name": "stdout",
     "output_type": "stream",
     "text": [
      "2001\n",
      "2002\n",
      "2003\n",
      "2004\n",
      "2005\n",
      "2006\n",
      "2007\n",
      "2008\n",
      "2009\n",
      "2010\n",
      "2011\n",
      "2012\n",
      "2013\n",
      "2014\n",
      "2015\n"
     ]
    }
   ],
   "source": [
    "# Vérifier que le fichier years.txt contient des valeurs appropriées\n",
    "# (Afin d'obtenir les valeurs uniques (uniq), les valeurs doivent être triées (sort))\n",
    "!sort years.txt | uniq"
   ]
  },
  {
   "cell_type": "code",
   "execution_count": 24,
   "metadata": {
    "collapsed": false
   },
   "outputs": [],
   "source": [
    "# Coller la colonne des années avec le fichier de données, écrire le résultat dans un fichier à part\n",
    "!paste years.txt all_doi_and_pubmed_citations.tsv > years_all_doi_and_pubmed_citations.tsv"
   ]
  },
  {
   "cell_type": "code",
   "execution_count": 25,
   "metadata": {
    "collapsed": false,
    "scrolled": false
   },
   "outputs": [
    {
     "name": "stdout",
     "output_type": "stream",
     "text": [
      "2014\t1015863\tContingent valuation\t609087410\t2014-05-18T12:33:42Z\tdoi\t10.1257/jep.8.4.45\r\n",
      "2008\t1081235\tLava dome\t215463764\t2008-05-28T09:21:09Z\tdoi\t10.1016/S0012-821X(97)00109-X\r\n",
      "2012\t1081235\tLava dome\t518505477\t2012-10-18T12:56:13Z\tdoi\t10.1038/46950\r\n",
      "2008\t1081235\tLava dome\t215463764\t2008-05-28T09:21:09Z\tdoi\t10.1016/0377-0273(83)90064-1\r\n",
      "2008\t1677742\tWu Jingzi\t214641213\t2008-05-24T15:20:40Z\tdoi\t10.2307/2652696\r\n",
      "2014\t1934322\tKamerlingh Onnes (crater)\t614821029\t2014-06-29T00:02:07Z\tdoi\t10.1007/BF00171763\r\n",
      "2012\t1232227\tCannabivarin\t513693453\t2012-09-20T11:53:09Z\tdoi\t10.1002/jps.2600641033/metrics\r\n",
      "2012\t1232227\tCannabivarin\t513693453\t2012-09-20T11:53:09Z\tdoi\t10.1002/jps.2600641033\r\n",
      "2013\t1081285\tPoint set triangulation\t560066307\t2013-06-15T20:38:51Z\tdoi\t10.1109/SFCS.1991.185400\r\n",
      "2014\t1081285\tPoint set triangulation\t632378841\t2014-11-04T04:57:19Z\tdoi\t10.1137/0913058\r\n"
     ]
    }
   ],
   "source": [
    "# Afficher les premières lignes du fichier pour vérifier que la colonne des années a été correctement ajoutée\n",
    "!head years_all_doi_and_pubmed_citations.tsv"
   ]
  },
  {
   "cell_type": "markdown",
   "metadata": {},
   "source": [
    "### <code>awk</code> (<i>pattern-directed scanning and processing language</i>)"
   ]
  },
  {
   "cell_type": "code",
   "execution_count": 36,
   "metadata": {
    "collapsed": false,
    "scrolled": true
   },
   "outputs": [],
   "source": [
    "# Scinder les données dans autant de fichiers que d'années\n",
    "# ('$1' est la colonne numéro 1, qui contient les années)"
   ]
  },
  {
   "cell_type": "code",
   "execution_count": 26,
   "metadata": {
    "collapsed": true
   },
   "outputs": [],
   "source": [
    "# Unix\n",
    "!awk -F '\\t' '{output=$1\"_doi_and_pubmed_citations.tsv\"; print $0 > output}' years_all_doi_and_pubmed_citations.tsv"
   ]
  },
  {
   "cell_type": "code",
   "execution_count": null,
   "metadata": {
    "collapsed": true
   },
   "outputs": [],
   "source": [
    "# Windows (replacing single quotes by double quotes and escaping double quotes)\n",
    "!awk -F \"\\t\" \"{output=$1\\\"_doi_and_pubmed_citations.tsv\\\"; print $0 > output}\" years_all_doi_and_pubmed_citations.tsv"
   ]
  },
  {
   "cell_type": "code",
   "execution_count": 27,
   "metadata": {
    "collapsed": false,
    "scrolled": true
   },
   "outputs": [
    {
     "name": "stdout",
     "output_type": "stream",
     "text": [
      "-rw-r--r--  1 arnaudrenaudfullsix  staff        289 Apr 10 16:24 2001_doi_and_pubmed_citations.tsv\r\n",
      "-rw-r--r--  1 arnaudrenaudfullsix  staff      33127 Apr 10 16:24 2002_doi_and_pubmed_citations.tsv\r\n",
      "-rw-r--r--  1 arnaudrenaudfullsix  staff     186850 Apr 10 16:24 2003_doi_and_pubmed_citations.tsv\r\n",
      "-rw-r--r--  1 arnaudrenaudfullsix  staff     858487 Apr 10 16:24 2004_doi_and_pubmed_citations.tsv\r\n",
      "-rw-r--r--  1 arnaudrenaudfullsix  staff    3103338 Apr 10 16:24 2005_doi_and_pubmed_citations.tsv\r\n",
      "-rw-r--r--  1 arnaudrenaudfullsix  staff    9323519 Apr 10 16:24 2006_doi_and_pubmed_citations.tsv\r\n",
      "-rw-r--r--  1 arnaudrenaudfullsix  staff   56274704 Apr 10 16:24 2007_doi_and_pubmed_citations.tsv\r\n",
      "-rw-r--r--  1 arnaudrenaudfullsix  staff   62579395 Apr 10 16:24 2008_doi_and_pubmed_citations.tsv\r\n",
      "-rw-r--r--  1 arnaudrenaudfullsix  staff   58793636 Apr 10 16:24 2009_doi_and_pubmed_citations.tsv\r\n",
      "-rw-r--r--  1 arnaudrenaudfullsix  staff   73809600 Apr 10 16:24 2010_doi_and_pubmed_citations.tsv\r\n",
      "-rw-r--r--  1 arnaudrenaudfullsix  staff   56291954 Apr 10 16:24 2011_doi_and_pubmed_citations.tsv\r\n",
      "-rw-r--r--  1 arnaudrenaudfullsix  staff   56779735 Apr 10 16:24 2012_doi_and_pubmed_citations.tsv\r\n",
      "-rw-r--r--  1 arnaudrenaudfullsix  staff   63142523 Apr 10 16:24 2013_doi_and_pubmed_citations.tsv\r\n",
      "-rw-r--r--  1 arnaudrenaudfullsix  staff   78538096 Apr 10 16:24 2014_doi_and_pubmed_citations.tsv\r\n",
      "-rw-r--r--  1 arnaudrenaudfullsix  staff    5073825 Apr 10 16:24 2015_doi_and_pubmed_citations.tsv\r\n",
      "-rw-r--r--  1 arnaudrenaudfullsix  staff        221 Apr 10 16:24 _doi_and_pubmed_citations.tsv\r\n",
      "-rw-r--r--  1 arnaudrenaudfullsix  staff  492738271 Apr 10 16:03 all_doi_and_pubmed_citations.tsv\r\n",
      "-rw-r--r--  1 arnaudrenaudfullsix  staff  101337855 Apr 10 16:03 doi_and_pubmed_citations.enwiki_20150112.tsv\r\n",
      "-rw-r--r--  1 arnaudrenaudfullsix  staff  101763529 Apr 10 16:03 doi_and_pubmed_citations.enwiki_20150205.tsv\r\n",
      "-rw-r--r--  1 arnaudrenaudfullsix  staff  252046964 Apr 10 16:03 doi_isbn_and_pubmed.enwiki_20150205.tsv\r\n",
      "-rw-r--r--  1 arnaudrenaudfullsix  staff   37589923 Apr 10 16:03 pubmed_citations.enwiki_20150112.tsv\r\n",
      "-rw-r--r--  1 arnaudrenaudfullsix  staff  524789299 Apr 10 16:22 years_all_doi_and_pubmed_citations.tsv\r\n"
     ]
    }
   ],
   "source": [
    "# Vérifier que chaque année a son fichier\n",
    "!ls -l *.tsv"
   ]
  },
  {
   "cell_type": "markdown",
   "metadata": {},
   "source": [
    "### <code>grep</code> (<i>globally search regular expression and print</i>)"
   ]
  },
  {
   "cell_type": "code",
   "execution_count": 28,
   "metadata": {
    "collapsed": false,
    "scrolled": true
   },
   "outputs": [
    {
     "name": "stdout",
     "output_type": "stream",
     "text": [
      "2012\t4478927\tWhite Serbia\t505988534\t2012-08-06T00:17:15Z\tdoi\t10.2307/2841974\n",
      "2012\t35482318\tHistorical administrative divisions of Serbia\t487316633\t2012-04-14T10:19:49Z\tdoi\t10.2298/ZRVI1047055K\n",
      "2012\t236637\tStephen Uroš IV Dušan of Serbia\t470927105\t2012-01-12T06:40:41Z\tdoi\t10.2298/ZRVI0744381P\n",
      "2012\t276571\tPrincipality of Serbia (medieval)\t483944543\t2012-03-26T01:59:38Z\tdoi\t10.2298/ZRVI1047055K\n",
      "2012\t1471751\tSerbian rock\t304159392\t2009-07-25T18:29:50Z\tisbn\t9788690531714\n",
      "2012\t1729377\tČaslav of Serbia\t437839897\t2011-07-05T08:55:12Z\tisbn\t0472081497\n",
      "2012\t1729377\tČaslav of Serbia\t437839897\t2011-07-05T08:55:12Z\tisbn\t8617137541\n",
      "2012\t1753822\tPatriarch Pavle of Serbia\t491768586\t2012-05-10T10:07:19Z\tisbn\t0520216628\n",
      "2012\t1753822\tPatriarch Pavle of Serbia\t491768586\t2012-05-10T10:07:19Z\tisbn\t0773522166\n",
      "2012\t1753822\tPatriarch Pavle of Serbia\t491768586\t2012-05-10T10:07:19Z\tisbn\t0195174291\n",
      "2012\t1753822\tPatriarch Pavle of Serbia\t491768586\t2012-05-10T10:07:19Z\tisbn\t1850653674\n",
      "2012\t3005163\tVišeslav of Serbia\t437265123\t2011-07-01T18:02:38Z\tisbn\t0631204717\n",
      "2012\t2843257\tSerbia in the Middle Ages\t261782641\t2009-01-03T23:45:52Z\tisbn\t0472081497\n",
      "2012\t3538626\tSerbian Volunteer Corps (World War II)\t618149726\t2014-07-23T17:23:23Z\tisbn\t9780804736152\n",
      "2012\t4478927\tWhite Serbia\t545619274\t2013-03-20T06:44:45Z\tisbn\t0631204717\n",
      "2012\t5046294\tPetar of Serbia\t400312210\t2010-12-03T14:00:31Z\tisbn\t0472081497\n",
      "2012\t5046294\tPetar of Serbia\t437111777\t2011-06-30T20:39:27Z\tisbn\t8617137541\n",
      "2012\t5046294\tPetar of Serbia\t400312210\t2010-12-03T14:00:31Z\tisbn\t9780521894524\n",
      "2012\t4976079\tTerritory of the Military Commander in Serbia\t542577947\t2013-03-07T13:00:57Z\tisbn\t9780804708579\n",
      "2012\t4976079\tTerritory of the Military Commander in Serbia\t542577947\t2013-03-07T13:00:57Z\tisbn\t9781850658955\n",
      "2012\t4976079\tTerritory of the Military Commander in Serbia\t507530175\t2012-08-15T13:19:21Z\tisbn\t9788672743883\n",
      "2012\t4976079\tTerritory of the Military Commander in Serbia\t416473362\t2011-03-01T00:35:07Z\tisbn\t0822319977\n",
      "2012\t4976079\tTerritory of the Military Commander in Serbia\t485463268\t2012-04-04T06:17:15Z\tisbn\t9780393090109\n",
      "2012\t4976079\tTerritory of the Military Commander in Serbia\t486232396\t2012-04-08T09:56:17Z\tisbn\t9780198228875\n",
      "2012\t4976079\tTerritory of the Military Commander in Serbia\t485871226\t2012-04-06T10:00:01Z\tisbn\t9780803259799\n",
      "2012\t4976079\tTerritory of the Military Commander in Serbia\t489450400\t2012-04-27T10:38:03Z\tisbn\t9780807820667\n",
      "2012\t4976079\tTerritory of the Military Commander in Serbia\t542577947\t2013-03-07T13:00:57Z\tisbn\t9781584779018\n",
      "2012\t4976079\tTerritory of the Military Commander in Serbia\t486237399\t2012-04-08T10:44:15Z\tisbn\t9780761836476\n",
      "2012\t4976079\tTerritory of the Military Commander in Serbia\t603050482\t2014-04-06T20:04:25Z\tisbn\t9781400825509\n",
      "2012\t4976079\tTerritory of the Military Commander in Serbia\t485850073\t2012-04-06T06:39:52Z\tisbn\t9780783557199\n",
      "2012\t4976079\tTerritory of the Military Commander in Serbia\t542577947\t2013-03-07T13:00:57Z\tisbn\t9780253346568\n",
      "2012\t4976079\tTerritory of the Military Commander in Serbia\t486226169\t2012-04-08T08:54:22Z\tisbn\t9781850654766\n",
      "2012\t4976079\tTerritory of the Military Commander in Serbia\t542577947\t2013-03-07T13:00:57Z\tdoi\t10.2298/IJGI1202093J\n",
      "2012\t4976079\tTerritory of the Military Commander in Serbia\t257570599\t2008-12-12T21:28:46Z\tisbn\t0890967601\n",
      "2012\t4976079\tTerritory of the Military Commander in Serbia\t485890435\t2012-04-06T12:29:03Z\tisbn\t9780880331395\n",
      "2012\t4731980\tSerbian Campaign of World War I\t614768800\t2014-06-28T15:31:09Z\tisbn\t9780330412247\n",
      "2012\t4731980\tSerbian Campaign of World War I\t630339812\t2014-10-20T06:14:43Z\tisbn\t9780472115570\n",
      "2012\t5701105\tMutimir of Serbia\t436374067\t2011-06-26T18:41:27Z\tisbn\t0472081497\n",
      "2012\t5701105\tMutimir of Serbia\t436374067\t2011-06-26T18:41:27Z\tisbn\t8617137541\n",
      "2012\t5218056\tSerbian State Guard\t532789654\t2013-01-13T01:25:15Z\tisbn\t9780253346568\n",
      "2012\t5861152\tGreece–Serbia relations\t490097738\t2012-05-01T09:41:57Z\tisbn\t9781585442263\n",
      "2012\t7669071\tSerbian American\t622397508\t2014-08-22T22:39:04Z\tisbn\t9781438110127\n",
      "2012\t8056034\tSerbian nationalism\t609935706\t2014-05-24T12:15:09Z\tdoi\t10.1111/j.1469-8129.2010.00469.x\n",
      "2012\t9712537\tMoravian Serbia\t482748197\t2012-03-19T16:52:11Z\tisbn\t9789607309587\n",
      "2012\t9712537\tMoravian Serbia\t482748197\t2012-03-19T16:52:11Z\tisbn\t0472082604\n",
      "2012\t9521899\tSerbian Cyrillic alphabet\t427992083\t2011-05-07T23:12:37Z\tisbn\t1557534772\n",
      "2012\t10911895\tList of birds of Serbia\t126165283\t2007-04-26T16:06:55Z\tisbn\t0934797161\n",
      "2012\t1595\tAlexander I of Serbia\t223723361\t2008-07-05T13:21:35Z\tisbn\t0317050745\n",
      "2012\t15192077\tHelena of Serbia, Queen of Hungary\t601634339\t2014-03-28T10:17:15Z\tisbn\t9788675499213\n",
      "2012\t14831835\tPostage stamps and postal history of Serbia\t611552915\t2014-06-04T17:06:24Z\tisbn\t3952108316\n",
      "2012\t15996489\tSerbia–United States relations\t488740258\t2012-04-23T00:57:58Z\tisbn\t9780801441585\n",
      "2012\t18970473\tMedieval Serbian army\t528051890\t2012-12-14T19:14:16Z\tisbn\t9789607309587\n",
      "2012\t18970473\tMedieval Serbian army\t528051890\t2012-12-14T19:14:16Z\tisbn\t8683565017\n",
      "2012\t18970473\tMedieval Serbian army\t528051890\t2012-12-14T19:14:16Z\tisbn\t0472082604\n",
      "2012\t18466567\tPribislav of Serbia\t437260415\t2011-07-01T17:27:53Z\tisbn\t0472081497\n",
      "2012\t18466567\tPribislav of Serbia\t437260415\t2011-07-01T17:27:53Z\tisbn\t8617137541\n",
      "2012\t19360790\tVrhpolje, Serbia\t239073094\t2008-09-17T18:10:56Z\tisbn\t8684433149\n",
      "2012\t18883160\tRomanization of Serbian\t552303072\t2013-04-26T17:30:17Z\tisbn\t9781557534774\n",
      "2012\t18889535\tSerbian folk astronomy\t379065249\t2010-08-15T16:24:48Z\tisbn\t8674940250\n",
      "2012\t21247907\tUroš II, Grand Prince of Serbia\t445971661\t2011-08-21T11:06:20Z\tisbn\t0631204717\n",
      "2012\t21247907\tUroš II, Grand Prince of Serbia\t445971661\t2011-08-21T11:06:20Z\tisbn\t0472081497\n",
      "2012\t26653707\tZaharija of Serbia\t437809506\t2011-07-05T03:21:46Z\tisbn\t0472081497\n",
      "2012\t26653707\tZaharija of Serbia\t437809506\t2011-07-05T03:21:46Z\tisbn\t8617137541\n",
      "2012\t25062797\tUroš I, Grand Prince of Serbia\t436391956\t2011-06-26T20:43:18Z\tisbn\t0472081497\n",
      "2012\t25062797\tUroš I, Grand Prince of Serbia\t492094186\t2012-05-11T22:51:16Z\tisbn\t0231040806\n",
      "2012\t27453297\tKlenovac, Serbia\t483108033\t2012-03-21T12:06:47Z\tisbn\t8684433009\n",
      "2012\t22782527\tPrehistoric sites in Serbia\t294707793\t2009-06-06T02:30:54Z\tisbn\t9780631212935\n",
      "2012\t29301855\tSerbian titles\t486466171\t2012-04-09T17:38:25Z\tisbn\t0748602097\n",
      "2012\t29301855\tSerbian titles\t392181142\t2010-10-22T08:35:37Z\tisbn\t0472082604\n",
      "2012\t29301855\tSerbian titles\t486463872\t2012-04-09T17:26:29Z\tisbn\t8683565017\n",
      "2012\t27713885\tKlokočevac, Serbia\t483109952\t2012-03-21T12:19:00Z\tisbn\t8684433009\n",
      "2012\t27946361\tVrban, Serbia\t483111832\t2012-03-21T12:28:26Z\tisbn\t8684433009\n",
      "2012\t25949287\tPavle of Serbia\t437311305\t2011-07-01T23:36:48Z\tisbn\t1605204218\n",
      "2012\t25949287\tPavle of Serbia\t437311305\t2011-07-01T23:36:48Z\tisbn\t9780521894524\n",
      "2012\t28859615\tDoliće, Serbia\t483121146\t2012-03-21T13:15:51Z\tisbn\t8684433009\n",
      "2012\t27308258\tGradinje, Serbia\t483099096\t2012-03-21T11:29:21Z\tisbn\t8684433009\n",
      "2012\t28867117\tBlaca, Serbia\t483122074\t2012-03-21T13:19:20Z\tisbn\t8684433009\n",
      "2012\t28087534\tStančići, Serbia\t483114023\t2012-03-21T12:41:00Z\tisbn\t8684433009\n",
      "2012\t28088171\tPuhovo, Serbia\t483117109\t2012-03-21T12:57:00Z\tisbn\t8684433009\n",
      "2012\t35129341\tSerbian Orthodox Diocese v. Milivojevich\t608363028\t2014-05-13T11:17:43Z\tdoi\t10.1093/jcs/42.2.311\n",
      "2012\t28132702\tRudine, Serbia\t483117775\t2012-03-21T13:00:53Z\tisbn\t8684433009\n",
      "2012\t28938683\tLeva Reka, Serbia\t483124448\t2012-03-21T13:27:49Z\tisbn\t8684433009\n",
      "2012\t31292300\tSerbian Kovin Monastery\t480267796\t2012-03-05T04:36:16Z\tisbn\t8607004808\n",
      "2012\t32323380\tAxis occupation of Serbia\t506571381\t2012-08-09T15:23:11Z\tisbn\t9788674030233\n",
      "2012\t32323380\tAxis occupation of Serbia\t506565375\t2012-08-09T14:38:10Z\tisbn\t9789536045198\n",
      "2012\t31378963\tSerbian Grand Principality\t439817629\t2011-07-16T18:40:41Z\tisbn\t0520204964\n",
      "2012\t31378963\tSerbian Grand Principality\t490601012\t2012-05-04T08:18:30Z\tisbn\t047211414X\n",
      "2012\t31378963\tSerbian Grand Principality\t439817629\t2011-07-16T18:40:41Z\tisbn\t0521815304\n",
      "2012\t35482318\tHistorical administrative divisions of Serbia\t487316633\t2012-04-14T10:19:49Z\tisbn\t1605200050\n",
      "2012\t35482318\tHistorical administrative divisions of Serbia\t487316633\t2012-04-14T10:19:49Z\tisbn\t0521770173\n",
      "2012\t35482318\tHistorical administrative divisions of Serbia\t487316633\t2012-04-14T10:19:49Z\tisbn\t1602062706\n",
      "2012\t35482318\tHistorical administrative divisions of Serbia\t487316633\t2012-04-14T10:19:49Z\tisbn\t0631204717\n",
      "2012\t35482318\tHistorical administrative divisions of Serbia\t487316633\t2012-04-14T10:19:49Z\tisbn\t9004082654\n",
      "2012\t35482318\tHistorical administrative divisions of Serbia\t487316633\t2012-04-14T10:19:49Z\tdoi\t10.2298/ZRVI1047055K\n",
      "2012\t35482318\tHistorical administrative divisions of Serbia\t487316633\t2012-04-14T10:19:49Z\tisbn\t9781580573146\n",
      "2012\t35482318\tHistorical administrative divisions of Serbia\t487316633\t2012-04-14T10:19:49Z\tisbn\t0472081497\n",
      "2012\t35482318\tHistorical administrative divisions of Serbia\t487316633\t2012-04-14T10:19:49Z\tisbn\t1605204218\n",
      "2012\t35482318\tHistorical administrative divisions of Serbia\t487316633\t2012-04-14T10:19:49Z\tisbn\t9788683883080\n",
      "2012\t34347678\tAssociation of Writers of Serbia\t481058976\t2012-03-09T20:29:06Z\tisbn\t9780253346568\n",
      "2012\t32542445\tSerbian nobility\t450826621\t2011-09-16T16:08:31Z\tisbn\t1113201428\n",
      "2012\t33473780\tRadovanje, Serbia\t483135708\t2012-03-21T14:14:56Z\tisbn\t8684433009\n",
      "2012\t33475070\tZagorica, Serbia\t483137340\t2012-03-21T14:21:52Z\tisbn\t8684433009\n",
      "2012\t35654237\tList of strategoi of Serbia\t564754052\t2013-07-18T06:55:30Z\tisbn\t9780521815307\n",
      "2012\t34746378\tSerbian–Ottoman War (1876–78)\t633213537\t2014-11-10T10:49:33Z\tisbn\t9780804708869\n",
      "2012\t32932741\tMaria Palaiologina, Queen of Serbia\t447653836\t2011-08-31T13:22:36Z\tisbn\t9780472082605\n",
      "2012\t32968906\tLukar, Serbia\t483129174\t2012-03-21T13:45:30Z\tisbn\t8684433009\n",
      "2012\t41430504\tSt. Sava Serbian Orthodox Cathedral\t587289643\t2013-12-22T22:14:35Z\tisbn\t0870206338\n",
      "2012\t41430504\tSt. Sava Serbian Orthodox Cathedral\t587286871\t2013-12-22T21:54:13Z\tisbn\t1598842196\n",
      "2012\t34947094\tSerbian Chetnik Organization\t606671728\t2014-05-01T19:43:39Z\tisbn\t9788679050441\n",
      "2012\t38997321\tUprising in Serbia (1941)\t548427122\t2013-04-03T03:28:03Z\tisbn\t9781850654766\n",
      "2012\t45045906\tSerbian Revival\t642417144\t2015-01-14T06:28:10Z\tisbn\t9783876909851\n",
      "2012\t38112882\tRepublika Srpska–Serbia relations\t538946478\t2013-02-18T22:59:02Z\tisbn\t9780300158267\n",
      "2012\t43400128\tGerman–Serbian dictionary (1791)\t623045781\t2014-08-27T16:01:31Z\tisbn\t9783899713251\n",
      "2012\t42083267\tSerbian Orthodox Seminary of Prizren\t597691845\t2014-03-01T17:29:05Z\tisbn\t8679350656\n",
      "2012\t27289\tSerbia and Montenegro\t636666119\t2014-12-04T21:41:06Z\tisbn\t9780300158267\n",
      "2012\t27289\tSerbia and Montenegro\t530268143\t2012-12-29T08:40:39Z\tisbn\t9781563243097\n",
      "2012\t29265\tSerbia\t448403428\t2011-09-04T13:16:21Z\tisbn\t0472081497\n",
      "2012\t29265\tSerbia\t517551549\t2012-10-13T10:33:46Z\tisbn\t0231700504\n",
      "2012\t29265\tSerbia\t584688439\t2013-12-05T13:51:29Z\tisbn\t9783540648352\n",
      "2012\t184274\tHistory of Serbia\t633220297\t2014-11-10T12:17:37Z\tisbn\t9780472081493\n",
      "2012\t236637\tStephen Uroš IV Dušan of Serbia\t463329134\t2011-11-30T17:55:09Z\tisbn\t052109531X\n",
      "2012\t236637\tStephen Uroš IV Dušan of Serbia\t366897117\t2010-06-08T23:52:13Z\tisbn\t8676850070\n",
      "2012\t236637\tStephen Uroš IV Dušan of Serbia\t473170701\t2012-01-25T15:38:48Z\tisbn\t9780312121167\n",
      "2012\t236637\tStephen Uroš IV Dušan of Serbia\t632758645\t2014-11-06T23:14:44Z\tisbn\t9781585442263\n",
      "2012\t236637\tStephen Uroš IV Dušan of Serbia\t632758645\t2014-11-06T23:14:44Z\tisbn\t9781857430585\n",
      "2012\t236637\tStephen Uroš IV Dušan of Serbia\t473170701\t2012-01-25T15:38:48Z\tisbn\t9783640401284\n",
      "2012\t276571\tPrincipality of Serbia (medieval)\t483944543\t2012-03-26T01:59:38Z\tisbn\t1605200050\n",
      "2012\t276571\tPrincipality of Serbia (medieval)\t483944543\t2012-03-26T01:59:38Z\tisbn\t0521770173\n",
      "2012\t276571\tPrincipality of Serbia (medieval)\t483944543\t2012-03-26T01:59:38Z\tisbn\t1602062706\n",
      "2012\t276571\tPrincipality of Serbia (medieval)\t483944543\t2012-03-26T01:59:38Z\tisbn\t0631204717\n",
      "2012\t276571\tPrincipality of Serbia (medieval)\t483944543\t2012-03-26T01:59:38Z\tisbn\t9004082654\n",
      "2012\t276571\tPrincipality of Serbia (medieval)\t483944543\t2012-03-26T01:59:38Z\tisbn\t9781580573146\n",
      "2012\t276571\tPrincipality of Serbia (medieval)\t417796303\t2011-03-08T15:52:53Z\tisbn\t1403964173\n",
      "2012\t276571\tPrincipality of Serbia (medieval)\t483944543\t2012-03-26T01:59:38Z\tisbn\t0472081497\n",
      "2012\t276571\tPrincipality of Serbia (medieval)\t483944543\t2012-03-26T01:59:38Z\tisbn\t1605204218\n",
      "2012\t276571\tPrincipality of Serbia (medieval)\t483944543\t2012-03-26T01:59:38Z\tisbn\t9788683883080\n",
      "2012\t276571\tPrincipality of Serbia (medieval)\t483949462\t2012-03-26T02:42:51Z\tisbn\t9780521074599\n",
      "2012\t326125\tLazar of Serbia\t482084931\t2012-03-15T20:30:48Z\tisbn\t0472082604\n",
      "2012\t326125\tLazar of Serbia\t515993261\t2012-10-04T17:12:56Z\tisbn\t9788763505048\n",
      "2012\t326125\tLazar of Serbia\t482084931\t2012-03-15T20:30:48Z\tisbn\t8635504526\n",
      "2012\t326125\tLazar of Serbia\t515993261\t2012-10-04T17:12:56Z\tisbn\t9789992287552\n",
      "2012\t326125\tLazar of Serbia\t482540576\t2012-03-18T13:56:54Z\tisbn\t9780472114146\n",
      "2012\t326125\tLazar of Serbia\t482084931\t2012-03-15T20:30:48Z\tisbn\t9789607309587\n",
      "2012\t295461\tComparison of standard Bosnian, Croatian and Serbian\t456328746\t2011-10-19T10:07:00Z\tisbn\t9780521223157\n",
      "2012\t295461\tComparison of standard Bosnian, Croatian and Serbian\t506416621\t2012-08-08T16:49:07Z\tisbn\t3825898911\n",
      "2012\t295461\tComparison of standard Bosnian, Croatian and Serbian\t57522253\t2006-06-08T12:17:19Z\tisbn\t0415971179\n",
      "2012\t417429\tSocialist Party of Serbia\t597532674\t2014-02-28T15:33:38Z\tisbn\t9780765619112\n",
      "2012\t417945\tGreater Serbia\t362603273\t2010-05-17T12:33:08Z\tisbn\t0814755615\n",
      "2012\t417945\tGreater Serbia\t362527780\t2010-05-17T00:15:00Z\tisbn\t0890967601\n",
      "2012\t526399\tRepublic of Serbian Krajina\t501999472\t2012-07-13T04:08:22Z\tisbn\t8683905055\n",
      "2012\t526399\tRepublic of Serbian Krajina\t308628815\t2009-08-18T05:51:53Z\tisbn\t1850655251\n",
      "2012\t526399\tRepublic of Serbian Krajina\t542277049\t2013-03-05T22:41:13Z\tisbn\t030016629X\n",
      "2012\t526399\tRepublic of Serbian Krajina\t180871142\t2007-12-29T22:26:47Z\tisbn\t9532122494\n",
      "2012\t526399\tRepublic of Serbian Krajina\t542273823\t2013-03-05T22:20:11Z\tisbn\t0253346568\n"
     ]
    }
   ],
   "source": [
    "# Search and print lines containing \"Serbia\" from file \"2012_doi_and_pubmed_citations.tsv\"\n",
    "!grep Serbia 2012_doi_and_pubmed_citations.tsv"
   ]
  },
  {
   "cell_type": "code",
   "execution_count": 29,
   "metadata": {
    "collapsed": false
   },
   "outputs": [],
   "source": [
    "# Search lines containing \"France\" or \"England\" (ignoring case) from file \"all_doi_and_pubmed_citations.tsv\"\n",
    "# Printing the result in a separate file\n",
    "!grep -i -e France -e England all_doi_and_pubmed_citations.tsv > france_england_citations.tsv"
   ]
  },
  {
   "cell_type": "code",
   "execution_count": 30,
   "metadata": {
    "collapsed": false
   },
   "outputs": [
    {
     "name": "stdout",
     "output_type": "stream",
     "text": [
      "    7835 france_england_citations.tsv\r\n"
     ]
    }
   ],
   "source": [
    "!wc -l france_england_citations.tsv"
   ]
  },
  {
   "cell_type": "code",
   "execution_count": 31,
   "metadata": {
    "collapsed": false
   },
   "outputs": [
    {
     "name": "stdout",
     "output_type": "stream",
     "text": [
      "total 5001096\r\n",
      "-rw-r--r--  1 arnaudrenaudfullsix  staff        289 Apr 10 16:24 2001_doi_and_pubmed_citations.tsv\r\n",
      "-rw-r--r--  1 arnaudrenaudfullsix  staff      33127 Apr 10 16:24 2002_doi_and_pubmed_citations.tsv\r\n",
      "-rw-r--r--  1 arnaudrenaudfullsix  staff     186850 Apr 10 16:24 2003_doi_and_pubmed_citations.tsv\r\n",
      "-rw-r--r--  1 arnaudrenaudfullsix  staff     858487 Apr 10 16:24 2004_doi_and_pubmed_citations.tsv\r\n",
      "-rw-r--r--  1 arnaudrenaudfullsix  staff    3103338 Apr 10 16:24 2005_doi_and_pubmed_citations.tsv\r\n",
      "-rw-r--r--  1 arnaudrenaudfullsix  staff    9323519 Apr 10 16:24 2006_doi_and_pubmed_citations.tsv\r\n",
      "-rw-r--r--  1 arnaudrenaudfullsix  staff   56274704 Apr 10 16:24 2007_doi_and_pubmed_citations.tsv\r\n",
      "-rw-r--r--  1 arnaudrenaudfullsix  staff   62579395 Apr 10 16:24 2008_doi_and_pubmed_citations.tsv\r\n",
      "-rw-r--r--  1 arnaudrenaudfullsix  staff   58793636 Apr 10 16:24 2009_doi_and_pubmed_citations.tsv\r\n",
      "-rw-r--r--  1 arnaudrenaudfullsix  staff   73809600 Apr 10 16:24 2010_doi_and_pubmed_citations.tsv\r\n",
      "-rw-r--r--  1 arnaudrenaudfullsix  staff   56291954 Apr 10 16:24 2011_doi_and_pubmed_citations.tsv\r\n",
      "-rw-r--r--  1 arnaudrenaudfullsix  staff   56779735 Apr 10 16:24 2012_doi_and_pubmed_citations.tsv\r\n",
      "-rw-r--r--  1 arnaudrenaudfullsix  staff   63142523 Apr 10 16:24 2013_doi_and_pubmed_citations.tsv\r\n",
      "-rw-r--r--  1 arnaudrenaudfullsix  staff   78538096 Apr 10 16:24 2014_doi_and_pubmed_citations.tsv\r\n",
      "-rw-r--r--  1 arnaudrenaudfullsix  staff    5073825 Apr 10 16:24 2015_doi_and_pubmed_citations.tsv\r\n",
      "-rw-r--r--  1 arnaudrenaudfullsix  staff        221 Apr 10 16:24 _doi_and_pubmed_citations.tsv\r\n",
      "-rw-r--r--  1 arnaudrenaudfullsix  staff  492738271 Apr 10 16:03 all_doi_and_pubmed_citations.tsv\r\n",
      "-rw-r--r--  1 arnaudrenaudfullsix  staff  101337855 Apr 10 16:03 doi_and_pubmed_citations.enwiki_20150112.tsv\r\n",
      "-rw-r--r--@ 1 arnaudrenaudfullsix  staff  101337899 Feb  9 18:29 doi_and_pubmed_citations.enwiki_20150112.tsv.original\r\n",
      "-rw-r--r--  1 arnaudrenaudfullsix  staff  101763529 Apr 10 16:03 doi_and_pubmed_citations.enwiki_20150205.tsv\r\n",
      "-rw-r--r--@ 1 arnaudrenaudfullsix  staff  101763529 Mar  9 17:02 doi_and_pubmed_citations.enwiki_20150205.tsv.original\r\n",
      "-rw-r--r--  1 arnaudrenaudfullsix  staff  252046964 Apr 10 16:03 doi_isbn_and_pubmed.enwiki_20150205.tsv\r\n",
      "-rw-r--r--@ 1 arnaudrenaudfullsix  staff  252046963 Apr  6 18:03 doi_isbn_and_pubmed.enwiki_20150205.tsv.original\r\n",
      "-rw-r--r--  1 arnaudrenaudfullsix  staff     663328 Apr 10 16:26 france_england_citations.tsv\r\n",
      "-rw-r--r--  1 arnaudrenaudfullsix  staff   37589923 Apr 10 16:03 pubmed_citations.enwiki_20150112.tsv\r\n",
      "-rw-r--r--@ 1 arnaudrenaudfullsix  staff   37589923 Feb  3 01:28 pubmed_citations.enwiki_20150112.tsv.original\r\n",
      "-rw-r--r--  1 arnaudrenaudfullsix  staff   32051025 Apr 10 16:15 years.txt\r\n",
      "-rw-r--r--  1 arnaudrenaudfullsix  staff  524789299 Apr 10 16:22 years_all_doi_and_pubmed_citations.tsv\r\n"
     ]
    }
   ],
   "source": [
    "!ls -l"
   ]
  },
  {
   "cell_type": "code",
   "execution_count": null,
   "metadata": {
    "collapsed": true
   },
   "outputs": [],
   "source": []
  }
 ],
 "metadata": {
  "kernelspec": {
   "display_name": "Python 3",
   "language": "python",
   "name": "python3"
  },
  "language_info": {
   "codemirror_mode": {
    "name": "ipython",
    "version": 3
   },
   "file_extension": ".py",
   "mimetype": "text/x-python",
   "name": "python",
   "nbconvert_exporter": "python",
   "pygments_lexer": "ipython3",
   "version": "3.4.3"
  }
 },
 "nbformat": 4,
 "nbformat_minor": 0
}
