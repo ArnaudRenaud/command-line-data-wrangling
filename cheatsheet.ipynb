{
 "cells": [
  {
   "cell_type": "markdown",
   "metadata": {},
   "source": [
    "# Unix command-line tools: groove on your data like it's 1971"
   ]
  },
  {
   "cell_type": "markdown",
   "metadata": {},
   "source": [
    "### Get the data: \n",
    "* https://drive.google.com/file/d/0B4bLNvQWJ3-9dmc0M0w1dHVMbkE/view?usp=sharing\n",
    "\n",
    "### Get the command-line tools:\n",
    "\n",
    "#### OS X and Linux :\n",
    "* Already installed, just open a terminal\n",
    "\n",
    "#### Windows :\n",
    "* Install Gow : https://github.com/bmatzelle/gow/wiki\n",
    "* Open the Command Prompt (search `cmd.exe` from the Start menu)"
   ]
  },
  {
   "cell_type": "markdown",
   "metadata": {},
   "source": [
    "## 1. Navigate between directories"
   ]
  },
  {
   "cell_type": "markdown",
   "metadata": {},
   "source": [
    "### `pwd` (*print working directory*)"
   ]
  },
  {
   "cell_type": "markdown",
   "metadata": {},
   "source": [
    "Where are we? Let's print the current working directory:"
   ]
  },
  {
   "cell_type": "code",
   "execution_count": 1,
   "metadata": {
    "collapsed": false
   },
   "outputs": [
    {
     "name": "stdout",
     "output_type": "stream",
     "text": [
      "/Users/arnaudrenaud/Google Drive/command-line-data-wrangling\r\n"
     ]
    }
   ],
   "source": [
    "!pwd"
   ]
  },
  {
   "cell_type": "markdown",
   "metadata": {},
   "source": [
    "### <code>cd</code> (<i>change directory</i>)"
   ]
  },
  {
   "cell_type": "markdown",
   "metadata": {
    "collapsed": true
   },
   "source": [
    "Now let's change our working directory to the one that contains the data:"
   ]
  },
  {
   "cell_type": "code",
   "execution_count": 2,
   "metadata": {
    "collapsed": false
   },
   "outputs": [
    {
     "name": "stdout",
     "output_type": "stream",
     "text": [
      "/Users/arnaudrenaud/Google Drive/command-line-data-wrangling/wikipedia_dataset\n"
     ]
    }
   ],
   "source": [
    "cd wikipedia_dataset"
   ]
  },
  {
   "cell_type": "markdown",
   "metadata": {},
   "source": [
    "### <code>ls</code> (<i>list directory contents</i>)"
   ]
  },
  {
   "cell_type": "markdown",
   "metadata": {},
   "source": [
    "This command prints the list of the files and directories contained in the current working directory:"
   ]
  },
  {
   "cell_type": "code",
   "execution_count": 3,
   "metadata": {
    "collapsed": false
   },
   "outputs": [
    {
     "name": "stdout",
     "output_type": "stream",
     "text": [
      "doi_and_pubmed_citations.enwiki_20150112.tsv doi_isbn_and_pubmed.enwiki_20150205.tsv\r\n",
      "doi_and_pubmed_citations.enwiki_20150205.tsv pubmed_citations.enwiki_20150112.tsv\r\n"
     ]
    }
   ],
   "source": [
    "!ls"
   ]
  },
  {
   "cell_type": "markdown",
   "metadata": {},
   "source": [
    "Same thing in detail below:"
   ]
  },
  {
   "cell_type": "code",
   "execution_count": 4,
   "metadata": {
    "collapsed": false
   },
   "outputs": [
    {
     "name": "stdout",
     "output_type": "stream",
     "text": [
      "total 962392\r\n",
      "-rw-r--r--@ 1 arnaudrenaud  staff  101337899 Feb  9 17:29 doi_and_pubmed_citations.enwiki_20150112.tsv\r\n",
      "-rw-r--r--@ 1 arnaudrenaud  staff  101763529 Mar  9 16:02 doi_and_pubmed_citations.enwiki_20150205.tsv\r\n",
      "-rw-r--r--@ 1 arnaudrenaud  staff  252046963 Apr  6 18:03 doi_isbn_and_pubmed.enwiki_20150205.tsv\r\n",
      "-rw-r--r--@ 1 arnaudrenaud  staff   37589923 Feb  3 00:28 pubmed_citations.enwiki_20150112.tsv\r\n"
     ]
    }
   ],
   "source": [
    "!ls -l"
   ]
  },
  {
   "cell_type": "markdown",
   "metadata": {},
   "source": [
    "There are four files. Let's take a quick look at what's inside."
   ]
  },
  {
   "cell_type": "markdown",
   "metadata": {},
   "source": [
    "## 2. Actual data manipulation commands"
   ]
  },
  {
   "cell_type": "markdown",
   "metadata": {},
   "source": [
    "### <code>head</code> and <code>tail</code>"
   ]
  },
  {
   "cell_type": "markdown",
   "metadata": {},
   "source": [
    "`head` is going to print the first ten lines of the specified file:"
   ]
  },
  {
   "cell_type": "code",
   "execution_count": 5,
   "metadata": {
    "collapsed": false,
    "scrolled": true
   },
   "outputs": [
    {
     "name": "stdout",
     "output_type": "stream",
     "text": [
      "page_id\tpage_title\trev_id\ttimestamp\ttype\tid\r\n",
      "1015863\tContingent valuation\t609087410\t2014-05-18T12:33:42Z\tdoi\t10.1257/jep.8.4.45\r\n",
      "1081235\tLava dome\t215463764\t2008-05-28T09:21:09Z\tdoi\t10.1016/S0012-821X(97)00109-X\r\n",
      "1081235\tLava dome\t518505477\t2012-10-18T12:56:13Z\tdoi\t10.1038/46950\r\n",
      "1081235\tLava dome\t215463764\t2008-05-28T09:21:09Z\tdoi\t10.1016/0377-0273(83)90064-1\r\n",
      "1677742\tWu Jingzi\t214641213\t2008-05-24T15:20:40Z\tdoi\t10.2307/2652696\r\n",
      "1934322\tKamerlingh Onnes (crater)\t614821029\t2014-06-29T00:02:07Z\tdoi\t10.1007/BF00171763\r\n",
      "1232227\tCannabivarin\t513693453\t2012-09-20T11:53:09Z\tdoi\t10.1002/jps.2600641033/metrics\r\n",
      "1232227\tCannabivarin\t513693453\t2012-09-20T11:53:09Z\tdoi\t10.1002/jps.2600641033\r\n",
      "1081285\tPoint set triangulation\t560066307\t2013-06-15T20:38:51Z\tdoi\t10.1109/SFCS.1991.185400\r\n"
     ]
    }
   ],
   "source": [
    "!head doi_and_pubmed_citations.enwiki_20150112.tsv"
   ]
  },
  {
   "cell_type": "markdown",
   "metadata": {},
   "source": [
    "Similarly, we can print the last ten lines with `tail`:"
   ]
  },
  {
   "cell_type": "code",
   "execution_count": 6,
   "metadata": {
    "collapsed": false,
    "scrolled": true
   },
   "outputs": [
    {
     "name": "stdout",
     "output_type": "stream",
     "text": [
      "892865\tEssential thrombocythaemia\t608184756\t2014-05-12T06:44:17Z\tpmid\t23668666\r\n",
      "892865\tEssential thrombocythaemia\t608184756\t2014-05-12T06:44:17Z\tpmid\t19357394\r\n",
      "892865\tEssential thrombocythaemia\t608184756\t2014-05-12T06:44:17Z\tpmid\t19636672\r\n",
      "892899\tParsing expression grammar\t376288420\t2010-07-30T17:03:03Z\tdoi\t10.1145/964001.964011\r\n",
      "892899\tParsing expression grammar\t292019066\t2009-05-24T14:40:07Z\tdoi\t10.1145/1408681.1408683\r\n",
      "893037\tRoad rage\t567468999\t2013-08-06T23:58:24Z\tpmc\t2922361\r\n",
      "893073\tKermadec Islands\t522898545\t2012-11-13T22:41:32Z\tdoi\t10.1080/03014223.2003.9518348\r\n",
      "893073\tKermadec Islands\t522898545\t2012-11-13T22:41:32Z\tdoi\t10.1017/S1464793102006061\r\n",
      "893122\tExtreme physical information\t591171539\t2014-01-17T20:37:14Z\tdoi\t10.1103/PhysRevE.88.042144\r\n",
      "893122\tExtreme physical information\t59688501\t2006-06-20T20:48:48Z\tdoi\t10.1016/j.ecolmodel.2003.12.045\r\n"
     ]
    }
   ],
   "source": [
    "!tail doi_and_pubmed_citations.enwiki_20150112.tsv"
   ]
  },
  {
   "cell_type": "markdown",
   "metadata": {},
   "source": [
    "### <code>wc</code> (<i>word, line, character, and byte count</i>)"
   ]
  },
  {
   "cell_type": "markdown",
   "metadata": {},
   "source": [
    "Count the number of lines in a file (without providing the option `-l`, `wc` will not only count lines, but also words and characters):"
   ]
  },
  {
   "cell_type": "code",
   "execution_count": 7,
   "metadata": {
    "collapsed": false,
    "scrolled": true
   },
   "outputs": [
    {
     "name": "stdout",
     "output_type": "stream",
     "text": [
      " 1291573 doi_and_pubmed_citations.enwiki_20150112.tsv\r\n"
     ]
    }
   ],
   "source": [
    "!wc -l doi_and_pubmed_citations.enwiki_20150112.tsv"
   ]
  },
  {
   "cell_type": "markdown",
   "metadata": {},
   "source": [
    "Using a wildcard, it is possible to apply a command to multiple files (here, `*` will match all the files in the working directory):"
   ]
  },
  {
   "cell_type": "code",
   "execution_count": 8,
   "metadata": {
    "collapsed": false
   },
   "outputs": [
    {
     "name": "stdout",
     "output_type": "stream",
     "text": [
      " 1291573 doi_and_pubmed_citations.enwiki_20150112.tsv\n",
      " 1296282 doi_and_pubmed_citations.enwiki_20150205.tsv\n",
      " 3273255 doi_isbn_and_pubmed.enwiki_20150205.tsv\n",
      "  549098 pubmed_citations.enwiki_20150112.tsv\n",
      " 6410208 total\n"
     ]
    }
   ],
   "source": [
    "!wc -l *"
   ]
  },
  {
   "cell_type": "markdown",
   "metadata": {},
   "source": [
    "The same wildcard syntax can be applied to `head`. This will print the head of all the TSV files in the working directory:"
   ]
  },
  {
   "cell_type": "code",
   "execution_count": 9,
   "metadata": {
    "collapsed": false,
    "scrolled": false
   },
   "outputs": [
    {
     "name": "stdout",
     "output_type": "stream",
     "text": [
      "==> doi_and_pubmed_citations.enwiki_20150112.tsv <==\r\n",
      "page_id\tpage_title\trev_id\ttimestamp\ttype\tid\r\n",
      "1015863\tContingent valuation\t609087410\t2014-05-18T12:33:42Z\tdoi\t10.1257/jep.8.4.45\r\n",
      "1081235\tLava dome\t215463764\t2008-05-28T09:21:09Z\tdoi\t10.1016/S0012-821X(97)00109-X\r\n",
      "1081235\tLava dome\t518505477\t2012-10-18T12:56:13Z\tdoi\t10.1038/46950\r\n",
      "1081235\tLava dome\t215463764\t2008-05-28T09:21:09Z\tdoi\t10.1016/0377-0273(83)90064-1\r\n",
      "1677742\tWu Jingzi\t214641213\t2008-05-24T15:20:40Z\tdoi\t10.2307/2652696\r\n",
      "1934322\tKamerlingh Onnes (crater)\t614821029\t2014-06-29T00:02:07Z\tdoi\t10.1007/BF00171763\r\n",
      "1232227\tCannabivarin\t513693453\t2012-09-20T11:53:09Z\tdoi\t10.1002/jps.2600641033/metrics\r\n",
      "1232227\tCannabivarin\t513693453\t2012-09-20T11:53:09Z\tdoi\t10.1002/jps.2600641033\r\n",
      "1081285\tPoint set triangulation\t560066307\t2013-06-15T20:38:51Z\tdoi\t10.1109/SFCS.1991.185400\r\n",
      "\r\n",
      "==> doi_and_pubmed_citations.enwiki_20150205.tsv <==\r\n",
      "page_id\tpage_title\trev_id\ttimestamp\ttype\tid\r\n",
      "1086263\tRobert Wedderburn (radical)\t376446551\t2010-07-31T16:51:45Z\tdoi\t10.1080/01440398608574906\r\n",
      "1431727\tTrần Thiện Khiêm\t609491089\t2014-05-21T07:40:19Z\tdoi\t10.2307/2757066\r\n",
      "1431727\tTrần Thiện Khiêm\t592364629\t2014-01-25T19:24:09Z\tdoi\t10.1017/S0026749X04001295\r\n",
      "1431727\tTrần Thiện Khiêm\t610778568\t2014-05-30T11:48:51Z\tdoi\t10.1017/s0026749x07002855\r\n",
      "1017807\tGällivare\t247665625\t2008-10-25T23:05:33Z\tpmid\t16768023\r\n",
      "1512013\tWald's equation\t214602293\t2008-05-24T10:10:39Z\tdoi\t10.1214/aoms/1177731235\r\n",
      "1512013\tWald's equation\t281232642\t2009-04-02T05:18:53Z\tdoi\t10.1214/074921706000001067\r\n",
      "1512013\tWald's equation\t590000681\t2014-01-10T00:08:15Z\tdoi\t10.1007/0-387-29548-8_2\r\n",
      "1512013\tWald's equation\t394825096\t2010-11-04T17:57:50Z\tdoi\t10.1214/aoms/1177731092\r\n",
      "\r\n",
      "==> doi_isbn_and_pubmed.enwiki_20150205.tsv <==\r\n",
      "page_id\tpage_title\trev_id\ttimestamp\ttype\tid\r\n",
      "972037\tFireflash\t416710586\t2011-03-02T09:44:39Z\tisbn\t1576073459\r\n",
      "1086263\tRobert Wedderburn (radical)\t376445172\t2010-07-31T16:41:42Z\tisbn\t0521307554\r\n",
      "1086263\tRobert Wedderburn (radical)\t376628944\t2010-08-01T18:49:23Z\tisbn\t0814794564\r\n",
      "1086263\tRobert Wedderburn (radical)\t376446551\t2010-07-31T16:51:45Z\tdoi\t10.1080/01440398608574906\r\n",
      "972038\tDe Havilland Firestreak\t408580981\t2011-01-18T13:14:43Z\tisbn\t9781857802580\r\n",
      "972038\tDe Havilland Firestreak\t416708979\t2011-03-02T09:24:23Z\tisbn\t1852605413\r\n",
      "972038\tDe Havilland Firestreak\t416708979\t2011-03-02T09:24:23Z\tisbn\t1576073459\r\n",
      "1512005\tJohn Kovalic\t578333656\t2013-10-22T23:42:21Z\tisbn\t9781907702587\r\n",
      "1512005\tJohn Kovalic\t639125373\t2014-12-22T02:23:19Z\tisbn\t9781932442960\r\n",
      "\r\n",
      "==> pubmed_citations.enwiki_20150112.tsv <==\r\n",
      "page_id\tpage_title\trev_id\ttimestamp\ttype\tid\r\n",
      "1325125\tClub cell\t282470030\t2009-04-08T01:52:20Z\tpmid\t18179694\r\n",
      "1325125\tClub cell\t385367462\t2010-09-17T15:05:47Z\tpmid\t20223917\r\n",
      "1325125\tClub cell\t552727110\t2013-04-29T14:05:24Z\tpmid\t23276834\r\n",
      "1325125\tClub cell\t352567087\t2010-03-28T17:30:02Z\tpmc\t1456166\r\n",
      "1325125\tClub cell\t552727110\t2013-04-29T14:05:24Z\tpmid\t22790912\r\n",
      "1325125\tClub cell\t282470417\t2009-04-08T01:54:54Z\tpmc\t33880\r\n",
      "1325125\tClub cell\t282470417\t2009-04-08T01:54:54Z\tpmid\t9707539\r\n",
      "1325125\tClub cell\t282470030\t2009-04-08T01:52:20Z\tpmc\t2249579\r\n",
      "1325125\tClub cell\t352567087\t2010-03-28T17:30:02Z\tpmid\t16157679\r\n"
     ]
    }
   ],
   "source": [
    "!head *.tsv"
   ]
  },
  {
   "cell_type": "markdown",
   "metadata": {},
   "source": [
    "All four files have the same columns, including a `timestamp` column.\n",
    "\n",
    "**Let's extract the year from the timestamp and spread the data across as many files as there are years. We will first concatenate all files into one before splitting the records into distinct years.**"
   ]
  },
  {
   "cell_type": "markdown",
   "metadata": {},
   "source": [
    "### <code>sed</code> (<i>stream editor</i>)"
   ]
  },
  {
   "cell_type": "markdown",
   "metadata": {
    "collapsed": false
   },
   "source": [
    "Before concatenating the files, let's remove their header:"
   ]
  },
  {
   "cell_type": "code",
   "execution_count": 10,
   "metadata": {
    "collapsed": false
   },
   "outputs": [],
   "source": [
    "# On Linux or OS X\n",
    "!for file in *.tsv; do sed -i '.original' '1d' $file; done"
   ]
  },
  {
   "cell_type": "markdown",
   "metadata": {},
   "source": [
    "`1d` stands for \"delete line number 1\", `-i` for \"in-place\". The arbitrary `.original` extension is appended to the original files."
   ]
  },
  {
   "cell_type": "code",
   "execution_count": null,
   "metadata": {
    "collapsed": true
   },
   "outputs": [],
   "source": [
    "# On Windows (not possible to specify a specific pattern to append to the original filenames)\n",
    "!sed -i \"1d\" *.tsv"
   ]
  },
  {
   "cell_type": "markdown",
   "metadata": {},
   "source": [
    "Let's check the list of the files in our working directory:"
   ]
  },
  {
   "cell_type": "code",
   "execution_count": 11,
   "metadata": {
    "collapsed": false,
    "scrolled": true
   },
   "outputs": [
    {
     "name": "stdout",
     "output_type": "stream",
     "text": [
      "total 1924784\r\n",
      "-rw-r--r--  1 arnaudrenaud  staff  101337855 Jun  6 21:45 doi_and_pubmed_citations.enwiki_20150112.tsv\r\n",
      "-rw-r--r--@ 1 arnaudrenaud  staff  101337899 Feb  9 17:29 doi_and_pubmed_citations.enwiki_20150112.tsv.original\r\n",
      "-rw-r--r--  1 arnaudrenaud  staff  101763485 Jun  6 21:45 doi_and_pubmed_citations.enwiki_20150205.tsv\r\n",
      "-rw-r--r--@ 1 arnaudrenaud  staff  101763529 Mar  9 16:02 doi_and_pubmed_citations.enwiki_20150205.tsv.original\r\n",
      "-rw-r--r--  1 arnaudrenaud  staff  252046920 Jun  6 21:45 doi_isbn_and_pubmed.enwiki_20150205.tsv\r\n",
      "-rw-r--r--@ 1 arnaudrenaud  staff  252046963 Apr  6 18:03 doi_isbn_and_pubmed.enwiki_20150205.tsv.original\r\n",
      "-rw-r--r--  1 arnaudrenaud  staff   37589879 Jun  6 21:45 pubmed_citations.enwiki_20150112.tsv\r\n",
      "-rw-r--r--@ 1 arnaudrenaud  staff   37589923 Feb  3 00:28 pubmed_citations.enwiki_20150112.tsv.original\r\n"
     ]
    }
   ],
   "source": [
    "!ls -l"
   ]
  },
  {
   "cell_type": "markdown",
   "metadata": {},
   "source": [
    "We can notice the first row has been removed from this file:"
   ]
  },
  {
   "cell_type": "code",
   "execution_count": 12,
   "metadata": {
    "collapsed": false
   },
   "outputs": [
    {
     "name": "stdout",
     "output_type": "stream",
     "text": [
      "==> doi_and_pubmed_citations.enwiki_20150112.tsv <==\r\n",
      "1015863\tContingent valuation\t609087410\t2014-05-18T12:33:42Z\tdoi\t10.1257/jep.8.4.45\r\n",
      "1081235\tLava dome\t215463764\t2008-05-28T09:21:09Z\tdoi\t10.1016/S0012-821X(97)00109-X\r\n",
      "1081235\tLava dome\t518505477\t2012-10-18T12:56:13Z\tdoi\t10.1038/46950\r\n",
      "1081235\tLava dome\t215463764\t2008-05-28T09:21:09Z\tdoi\t10.1016/0377-0273(83)90064-1\r\n",
      "1677742\tWu Jingzi\t214641213\t2008-05-24T15:20:40Z\tdoi\t10.2307/2652696\r\n",
      "1934322\tKamerlingh Onnes (crater)\t614821029\t2014-06-29T00:02:07Z\tdoi\t10.1007/BF00171763\r\n",
      "1232227\tCannabivarin\t513693453\t2012-09-20T11:53:09Z\tdoi\t10.1002/jps.2600641033/metrics\r\n",
      "1232227\tCannabivarin\t513693453\t2012-09-20T11:53:09Z\tdoi\t10.1002/jps.2600641033\r\n",
      "1081285\tPoint set triangulation\t560066307\t2013-06-15T20:38:51Z\tdoi\t10.1109/SFCS.1991.185400\r\n",
      "1081285\tPoint set triangulation\t632378841\t2014-11-04T04:57:19Z\tdoi\t10.1137/0913058\r\n",
      "\r\n",
      "==> doi_and_pubmed_citations.enwiki_20150205.tsv <==\r\n",
      "1086263\tRobert Wedderburn (radical)\t376446551\t2010-07-31T16:51:45Z\tdoi\t10.1080/01440398608574906\r\n",
      "1431727\tTrần Thiện Khiêm\t609491089\t2014-05-21T07:40:19Z\tdoi\t10.2307/2757066\r\n",
      "1431727\tTrần Thiện Khiêm\t592364629\t2014-01-25T19:24:09Z\tdoi\t10.1017/S0026749X04001295\r\n",
      "1431727\tTrần Thiện Khiêm\t610778568\t2014-05-30T11:48:51Z\tdoi\t10.1017/s0026749x07002855\r\n",
      "1017807\tGällivare\t247665625\t2008-10-25T23:05:33Z\tpmid\t16768023\r\n",
      "1512013\tWald's equation\t214602293\t2008-05-24T10:10:39Z\tdoi\t10.1214/aoms/1177731235\r\n",
      "1512013\tWald's equation\t281232642\t2009-04-02T05:18:53Z\tdoi\t10.1214/074921706000001067\r\n",
      "1512013\tWald's equation\t590000681\t2014-01-10T00:08:15Z\tdoi\t10.1007/0-387-29548-8_2\r\n",
      "1512013\tWald's equation\t394825096\t2010-11-04T17:57:50Z\tdoi\t10.1214/aoms/1177731092\r\n",
      "1017833\tPancoast tumor\t513987354\t2012-09-22T08:34:36Z\tdoi\t10.1016/S0003-4975(96)01023-5\r\n",
      "\r\n",
      "==> doi_isbn_and_pubmed.enwiki_20150205.tsv <==\r\n",
      "972037\tFireflash\t416710586\t2011-03-02T09:44:39Z\tisbn\t1576073459\r\n",
      "1086263\tRobert Wedderburn (radical)\t376445172\t2010-07-31T16:41:42Z\tisbn\t0521307554\r\n",
      "1086263\tRobert Wedderburn (radical)\t376628944\t2010-08-01T18:49:23Z\tisbn\t0814794564\r\n",
      "1086263\tRobert Wedderburn (radical)\t376446551\t2010-07-31T16:51:45Z\tdoi\t10.1080/01440398608574906\r\n",
      "972038\tDe Havilland Firestreak\t408580981\t2011-01-18T13:14:43Z\tisbn\t9781857802580\r\n",
      "972038\tDe Havilland Firestreak\t416708979\t2011-03-02T09:24:23Z\tisbn\t1852605413\r\n",
      "972038\tDe Havilland Firestreak\t416708979\t2011-03-02T09:24:23Z\tisbn\t1576073459\r\n",
      "1512005\tJohn Kovalic\t578333656\t2013-10-22T23:42:21Z\tisbn\t9781907702587\r\n",
      "1512005\tJohn Kovalic\t639125373\t2014-12-22T02:23:19Z\tisbn\t9781932442960\r\n",
      "1431727\tTrần Thiện Khiêm\t374461578\t2010-07-20T08:48:08Z\tisbn\t0195052862\r\n",
      "\r\n",
      "==> pubmed_citations.enwiki_20150112.tsv <==\r\n",
      "1325125\tClub cell\t282470030\t2009-04-08T01:52:20Z\tpmid\t18179694\r\n",
      "1325125\tClub cell\t385367462\t2010-09-17T15:05:47Z\tpmid\t20223917\r\n",
      "1325125\tClub cell\t552727110\t2013-04-29T14:05:24Z\tpmid\t23276834\r\n",
      "1325125\tClub cell\t352567087\t2010-03-28T17:30:02Z\tpmc\t1456166\r\n",
      "1325125\tClub cell\t552727110\t2013-04-29T14:05:24Z\tpmid\t22790912\r\n",
      "1325125\tClub cell\t282470417\t2009-04-08T01:54:54Z\tpmc\t33880\r\n",
      "1325125\tClub cell\t282470417\t2009-04-08T01:54:54Z\tpmid\t9707539\r\n",
      "1325125\tClub cell\t282470030\t2009-04-08T01:52:20Z\tpmc\t2249579\r\n",
      "1325125\tClub cell\t352567087\t2010-03-28T17:30:02Z\tpmid\t16157679\r\n",
      "1677930\tSeed dispersal\t545892712\t2013-03-21T05:46:08Z\tpmid\t9600942\r\n"
     ]
    }
   ],
   "source": [
    "!head *.tsv"
   ]
  },
  {
   "cell_type": "markdown",
   "metadata": {},
   "source": [
    "### <code>cat</code> (<i>concatenate and print files</i>)"
   ]
  },
  {
   "cell_type": "markdown",
   "metadata": {},
   "source": [
    "Let's concatenate all our TSV files into one:"
   ]
  },
  {
   "cell_type": "code",
   "execution_count": 13,
   "metadata": {
    "collapsed": false
   },
   "outputs": [],
   "source": [
    "!cat *.tsv > all_doi_and_pubmed_citations.tsv"
   ]
  },
  {
   "cell_type": "markdown",
   "metadata": {},
   "source": [
    "This is it. We can check the list of the TSV files and notice that the newly created `all_doi_and_pubmed_citations.tsv` weighs indeed the same as the sum of the other files:"
   ]
  },
  {
   "cell_type": "code",
   "execution_count": 14,
   "metadata": {
    "collapsed": false,
    "scrolled": true
   },
   "outputs": [
    {
     "name": "stdout",
     "output_type": "stream",
     "text": [
      "-rw-r--r--  1 arnaudrenaud  staff  492738139 Jun  6 21:46 all_doi_and_pubmed_citations.tsv\r\n",
      "-rw-r--r--  1 arnaudrenaud  staff  101337855 Jun  6 21:45 doi_and_pubmed_citations.enwiki_20150112.tsv\r\n",
      "-rw-r--r--  1 arnaudrenaud  staff  101763485 Jun  6 21:45 doi_and_pubmed_citations.enwiki_20150205.tsv\r\n",
      "-rw-r--r--  1 arnaudrenaud  staff  252046920 Jun  6 21:45 doi_isbn_and_pubmed.enwiki_20150205.tsv\r\n",
      "-rw-r--r--  1 arnaudrenaud  staff   37589879 Jun  6 21:45 pubmed_citations.enwiki_20150112.tsv\r\n"
     ]
    }
   ],
   "source": [
    "!ls -l *.tsv"
   ]
  },
  {
   "cell_type": "markdown",
   "metadata": {},
   "source": [
    "We now need to add a column containing the year of each record, based on the timestamp."
   ]
  },
  {
   "cell_type": "markdown",
   "metadata": {},
   "source": [
    "### <code>cut</code> (<i>cut out selected portions of each line of a file</i>)"
   ]
  },
  {
   "cell_type": "markdown",
   "metadata": {
    "collapsed": false
   },
   "source": [
    "Extracting the year and writing it as a column is going to take three steps:\n",
    "- first, let's get the fourth column of our concatenated table (which is the `timestamp` column)\n",
    "- then, let's hand the result to `grep`, which will extract the year from the timestamp\n",
    "- finally, we direct the result to a file that we call `years.txt`\n",
    "\n",
    "It still fits in one line, though:"
   ]
  },
  {
   "cell_type": "code",
   "execution_count": 15,
   "metadata": {
    "collapsed": true
   },
   "outputs": [],
   "source": [
    "# On Linux (extended regular expression, GNU)\n",
    "!cut -f4 all_doi_and_pubmed_citations.tsv | grep -E -o ^[0-9]{4} > years.txt"
   ]
  },
  {
   "cell_type": "code",
   "execution_count": 21,
   "metadata": {
    "collapsed": true
   },
   "outputs": [],
   "source": [
    "# On OS X (extended regular expression, BSD)\n",
    "!cut -f4 all_doi_and_pubmed_citations.tsv | grep -E -o ^[0-9]\\{4\\} > years.txt"
   ]
  },
  {
   "cell_type": "code",
   "execution_count": null,
   "metadata": {
    "collapsed": true
   },
   "outputs": [],
   "source": [
    "# On Windows (basic regular expression)\n",
    "!cut -f4 all_doi_and_pubmed_citations.tsv | grep -o ^[0-9]\\{4\\} > years.txt"
   ]
  },
  {
   "cell_type": "markdown",
   "metadata": {},
   "source": [
    "What does this `years.txt` file look like? "
   ]
  },
  {
   "cell_type": "code",
   "execution_count": 22,
   "metadata": {
    "collapsed": false
   },
   "outputs": [
    {
     "name": "stdout",
     "output_type": "stream",
     "text": [
      "2014\r\n",
      "2008\r\n",
      "2012\r\n",
      "2008\r\n",
      "2008\r\n",
      "2014\r\n",
      "2012\r\n",
      "2012\r\n",
      "2013\r\n",
      "2014\r\n"
     ]
    }
   ],
   "source": [
    "!head years.txt"
   ]
  },
  {
   "cell_type": "code",
   "execution_count": 23,
   "metadata": {
    "collapsed": false
   },
   "outputs": [
    {
     "name": "stdout",
     "output_type": "stream",
     "text": [
      " 6410205 years.txt\n",
      " 6410205 all_doi_and_pubmed_citations.tsv\n",
      " 12820410 total\n"
     ]
    }
   ],
   "source": [
    "!wc -l years.txt all_doi_and_pubmed_citations.tsv"
   ]
  },
  {
   "cell_type": "markdown",
   "metadata": {},
   "source": [
    "Looks good. Each line contains a year and there appears to be as many lines as in the complete dataset."
   ]
  },
  {
   "cell_type": "markdown",
   "metadata": {},
   "source": [
    "### `sort` (*sort lines of text files*)\n",
    "### `uniq` (*report or filter out repeated lines in a file*)"
   ]
  },
  {
   "cell_type": "markdown",
   "metadata": {},
   "source": [
    "Before splitting our dataset into years, let's digress and check the years in presence in the dataset. The `uniq` command is quite self-explanatory; it only needs a sorted file to drop all duplicates."
   ]
  },
  {
   "cell_type": "code",
   "execution_count": 24,
   "metadata": {
    "collapsed": false
   },
   "outputs": [
    {
     "name": "stdout",
     "output_type": "stream",
     "text": [
      "2001\n",
      "2002\n",
      "2003\n",
      "2004\n",
      "2005\n",
      "2006\n",
      "2007\n",
      "2008\n",
      "2009\n",
      "2010\n",
      "2011\n",
      "2012\n",
      "2013\n",
      "2014\n",
      "2015\n"
     ]
    }
   ],
   "source": [
    "!sort years.txt | uniq"
   ]
  },
  {
   "cell_type": "markdown",
   "metadata": {},
   "source": [
    "Back to work now."
   ]
  },
  {
   "cell_type": "markdown",
   "metadata": {},
   "source": [
    "### `paste` (*merge corresponding or subsequent lines of files*)"
   ]
  },
  {
   "cell_type": "markdown",
   "metadata": {},
   "source": [
    "Let's add the column of the years to our dataset (just like pasting a column in a spreadsheet, only writing it to a new file):"
   ]
  },
  {
   "cell_type": "code",
   "execution_count": 25,
   "metadata": {
    "collapsed": false
   },
   "outputs": [],
   "source": [
    "!paste years.txt all_doi_and_pubmed_citations.tsv > years_all_doi_and_pubmed_citations.tsv"
   ]
  },
  {
   "cell_type": "markdown",
   "metadata": {},
   "source": [
    "What does this newly created file look like?"
   ]
  },
  {
   "cell_type": "code",
   "execution_count": 26,
   "metadata": {
    "collapsed": false,
    "scrolled": false
   },
   "outputs": [
    {
     "name": "stdout",
     "output_type": "stream",
     "text": [
      "2014\t1015863\tContingent valuation\t609087410\t2014-05-18T12:33:42Z\tdoi\t10.1257/jep.8.4.45\r\n",
      "2008\t1081235\tLava dome\t215463764\t2008-05-28T09:21:09Z\tdoi\t10.1016/S0012-821X(97)00109-X\r\n",
      "2012\t1081235\tLava dome\t518505477\t2012-10-18T12:56:13Z\tdoi\t10.1038/46950\r\n",
      "2008\t1081235\tLava dome\t215463764\t2008-05-28T09:21:09Z\tdoi\t10.1016/0377-0273(83)90064-1\r\n",
      "2008\t1677742\tWu Jingzi\t214641213\t2008-05-24T15:20:40Z\tdoi\t10.2307/2652696\r\n",
      "2014\t1934322\tKamerlingh Onnes (crater)\t614821029\t2014-06-29T00:02:07Z\tdoi\t10.1007/BF00171763\r\n",
      "2012\t1232227\tCannabivarin\t513693453\t2012-09-20T11:53:09Z\tdoi\t10.1002/jps.2600641033/metrics\r\n",
      "2012\t1232227\tCannabivarin\t513693453\t2012-09-20T11:53:09Z\tdoi\t10.1002/jps.2600641033\r\n",
      "2013\t1081285\tPoint set triangulation\t560066307\t2013-06-15T20:38:51Z\tdoi\t10.1109/SFCS.1991.185400\r\n",
      "2014\t1081285\tPoint set triangulation\t632378841\t2014-11-04T04:57:19Z\tdoi\t10.1137/0913058\r\n"
     ]
    }
   ],
   "source": [
    "!head years_all_doi_and_pubmed_citations.tsv"
   ]
  },
  {
   "cell_type": "markdown",
   "metadata": {},
   "source": [
    "### <code>awk</code> (<i>pattern-directed scanning and processing language</i>)"
   ]
  },
  {
   "cell_type": "markdown",
   "metadata": {
    "collapsed": false,
    "scrolled": true
   },
   "source": [
    "We're all set to split the dataset into as many files as there are distinct years.\n",
    "Let's prefix each output file with the corresponding year.\n",
    "\n",
    "We also need to indicate to the command `awk` which separator it needs to look for in our file (here, `\\t`)."
   ]
  },
  {
   "cell_type": "code",
   "execution_count": 27,
   "metadata": {
    "collapsed": true
   },
   "outputs": [],
   "source": [
    "# Unix\n",
    "!awk -F '\\t' '{output=$1\"_doi_and_pubmed_citations.tsv\"; print $0 > output}' years_all_doi_and_pubmed_citations.tsv"
   ]
  },
  {
   "cell_type": "code",
   "execution_count": null,
   "metadata": {
    "collapsed": true
   },
   "outputs": [],
   "source": [
    "# Windows (replacing single quotes by double quotes and escaping double quotes)\n",
    "!awk -F \"\\t\" \"{output=$1\\\"_doi_and_pubmed_citations.tsv\\\"; print $0 > output}\" years_all_doi_and_pubmed_citations.tsv"
   ]
  },
  {
   "cell_type": "markdown",
   "metadata": {},
   "source": [
    "Slick one-liner and a powerful command. `$1` means we're splitting the file based on the value found in the first column (the year).\n",
    "\n",
    "We can now make sure each distinct year has its own file:"
   ]
  },
  {
   "cell_type": "code",
   "execution_count": 28,
   "metadata": {
    "collapsed": false,
    "scrolled": true
   },
   "outputs": [
    {
     "name": "stdout",
     "output_type": "stream",
     "text": [
      "-rw-r--r--  1 arnaudrenaud  staff        288 Jun  6 21:57 2001_doi_and_pubmed_citations.tsv\r\n",
      "-rw-r--r--  1 arnaudrenaud  staff      31077 Jun  6 21:57 2002_doi_and_pubmed_citations.tsv\r\n",
      "-rw-r--r--  1 arnaudrenaud  staff     179728 Jun  6 21:57 2003_doi_and_pubmed_citations.tsv\r\n",
      "-rw-r--r--  1 arnaudrenaud  staff     827094 Jun  6 21:57 2004_doi_and_pubmed_citations.tsv\r\n",
      "-rw-r--r--  1 arnaudrenaud  staff    3023417 Jun  6 21:57 2005_doi_and_pubmed_citations.tsv\r\n",
      "-rw-r--r--  1 arnaudrenaud  staff    9137933 Jun  6 21:57 2006_doi_and_pubmed_citations.tsv\r\n",
      "-rw-r--r--  1 arnaudrenaud  staff   55579825 Jun  6 21:57 2007_doi_and_pubmed_citations.tsv\r\n",
      "-rw-r--r--  1 arnaudrenaud  staff   62640732 Jun  6 21:57 2008_doi_and_pubmed_citations.tsv\r\n",
      "-rw-r--r--  1 arnaudrenaud  staff   59432388 Jun  6 21:57 2009_doi_and_pubmed_citations.tsv\r\n",
      "-rw-r--r--  1 arnaudrenaud  staff   72992277 Jun  6 21:57 2010_doi_and_pubmed_citations.tsv\r\n",
      "-rw-r--r--  1 arnaudrenaud  staff   56334887 Jun  6 21:57 2011_doi_and_pubmed_citations.tsv\r\n",
      "-rw-r--r--  1 arnaudrenaud  staff   56849184 Jun  6 21:57 2012_doi_and_pubmed_citations.tsv\r\n",
      "-rw-r--r--  1 arnaudrenaud  staff   63266063 Jun  6 21:57 2013_doi_and_pubmed_citations.tsv\r\n",
      "-rw-r--r--  1 arnaudrenaud  staff   79401059 Jun  6 21:57 2014_doi_and_pubmed_citations.tsv\r\n",
      "-rw-r--r--  1 arnaudrenaud  staff    5093212 Jun  6 21:57 2015_doi_and_pubmed_citations.tsv\r\n",
      "-rw-r--r--  1 arnaudrenaud  staff  492738139 Jun  6 21:46 all_doi_and_pubmed_citations.tsv\r\n",
      "-rw-r--r--  1 arnaudrenaud  staff  101337855 Jun  6 21:45 doi_and_pubmed_citations.enwiki_20150112.tsv\r\n",
      "-rw-r--r--  1 arnaudrenaud  staff  101763485 Jun  6 21:45 doi_and_pubmed_citations.enwiki_20150205.tsv\r\n",
      "-rw-r--r--  1 arnaudrenaud  staff  252046920 Jun  6 21:45 doi_isbn_and_pubmed.enwiki_20150205.tsv\r\n",
      "-rw-r--r--  1 arnaudrenaud  staff   37589879 Jun  6 21:45 pubmed_citations.enwiki_20150112.tsv\r\n",
      "-rw-r--r--  1 arnaudrenaud  staff  524789164 Jun  6 21:56 years_all_doi_and_pubmed_citations.tsv\r\n"
     ]
    }
   ],
   "source": [
    "!ls -l *.tsv"
   ]
  },
  {
   "cell_type": "markdown",
   "metadata": {},
   "source": [
    "### <code>grep</code> (<i>globally search regular expression and print</i>)"
   ]
  },
  {
   "cell_type": "markdown",
   "metadata": {},
   "source": [
    "What about looking for all records that match a certain pattern? We want to print all the records containing \"Serbia\" from the 2012 dataset."
   ]
  },
  {
   "cell_type": "code",
   "execution_count": 29,
   "metadata": {
    "collapsed": false,
    "scrolled": true
   },
   "outputs": [
    {
     "name": "stdout",
     "output_type": "stream",
     "text": [
      "2012\t4478927\tWhite Serbia\t505988534\t2012-08-06T00:17:15Z\tdoi\t10.2307/2841974\n",
      "2012\t35482318\tHistorical administrative divisions of Serbia\t487316633\t2012-04-14T10:19:49Z\tdoi\t10.2298/ZRVI1047055K\n",
      "2012\t236637\tStephen Uroš IV Dušan of Serbia\t470927105\t2012-01-12T06:40:41Z\tdoi\t10.2298/ZRVI0744381P\n",
      "2012\t276571\tPrincipality of Serbia (medieval)\t483944543\t2012-03-26T01:59:38Z\tdoi\t10.2298/ZRVI1047055K\n",
      "2012\t4478927\tWhite Serbia\t505988534\t2012-08-06T00:17:15Z\tdoi\t10.2307/2841974\n",
      "2012\t35482318\tHistorical administrative divisions of Serbia\t487316633\t2012-04-14T10:19:49Z\tdoi\t10.2298/ZRVI1047055K\n",
      "2012\t236637\tStephen Uroš IV Dušan of Serbia\t470927105\t2012-01-12T06:40:41Z\tdoi\t10.2298/ZRVI0744381P\n",
      "2012\t276571\tPrincipality of Serbia (medieval)\t483944543\t2012-03-26T01:59:38Z\tdoi\t10.2298/ZRVI1047055K\n",
      "2012\t2043693\tStephen Uroš III Dečanski of Serbia\t502317673\t2012-07-14T23:33:28Z\tisbn\t9780472082605\n",
      "2012\t2043693\tStephen Uroš III Dečanski of Serbia\t502317673\t2012-07-14T23:33:28Z\tisbn\t0295972904\n",
      "2012\t1729377\tČaslav of Serbia\t491717704\t2012-05-10T01:53:43Z\tisbn\t9780631204718\n",
      "2012\t1729377\tČaslav of Serbia\t491717704\t2012-05-10T01:53:43Z\tisbn\t9781605204215\n",
      "2012\t1753822\tPatriarch Pavle of Serbia\t491768586\t2012-05-10T10:07:19Z\tisbn\t0520216628\n",
      "2012\t1753822\tPatriarch Pavle of Serbia\t491768586\t2012-05-10T10:07:19Z\tisbn\t9781585442263\n",
      "2012\t1753822\tPatriarch Pavle of Serbia\t491768586\t2012-05-10T10:07:19Z\tisbn\t0773522166\n",
      "2012\t1753822\tPatriarch Pavle of Serbia\t491768586\t2012-05-10T10:07:19Z\tisbn\t0195174291\n",
      "2012\t1753822\tPatriarch Pavle of Serbia\t491768586\t2012-05-10T10:07:19Z\tisbn\t1850653674\n",
      "2012\t1753822\tPatriarch Pavle of Serbia\t491768586\t2012-05-10T10:07:19Z\tisbn\t0684843080\n",
      "2012\t1753822\tPatriarch Pavle of Serbia\t491768586\t2012-05-10T10:07:19Z\tisbn\t0295985380\n",
      "2012\t3280452\tByzantine Church of Croatia, Serbia and Montenegro\t517983472\t2012-10-15T19:26:58Z\tisbn\t9788820987220\n",
      "2012\t3005163\tVišeslav of Serbia\t492040086\t2012-05-11T17:36:39Z\tisbn\t9780631204718\n",
      "2012\t3005163\tVišeslav of Serbia\t492040086\t2012-05-11T17:36:39Z\tisbn\t9781605204215\n",
      "2012\t2887074\tSerbian-Hungarian Baranya-Baja Republic\t492011693\t2012-05-11T14:57:31Z\tisbn\t9637272429\n",
      "2012\t3411930\tMol (Serbia)\t491024939\t2012-05-06T17:35:58Z\tisbn\t8684433009\n",
      "2012\t3538626\tSerbian Volunteer Corps (World War II)\t501721703\t2012-07-11T13:52:49Z\tisbn\t9781850654766\n",
      "2012\t4445491\tSerbianisation\t491628031\t2012-05-09T16:45:53Z\tisbn\t9783447052481\n",
      "2012\t4478927\tWhite Serbia\t505988534\t2012-08-06T00:17:15Z\tdoi\t10.2307/2841974\n",
      "2012\t5046294\tPetar of Serbia\t491344394\t2012-05-08T09:03:50Z\tisbn\t9780631204718\n",
      "2012\t5046294\tPetar of Serbia\t491344394\t2012-05-08T09:03:50Z\tisbn\t9781605204215\n",
      "2012\t4976079\tTerritory of the Military Commander in Serbia\t489419208\t2012-04-27T03:49:05Z\tisbn\t9780521642422\n",
      "2012\t4976079\tTerritory of the Military Commander in Serbia\t485888598\t2012-04-06T12:15:52Z\tisbn\t9780231112154\n",
      "2012\t4976079\tTerritory of the Military Commander in Serbia\t507530175\t2012-08-15T13:19:21Z\tisbn\t9788672743883\n",
      "2012\t4976079\tTerritory of the Military Commander in Serbia\t485463268\t2012-04-04T06:17:15Z\tisbn\t9780393090109\n",
      "2012\t4976079\tTerritory of the Military Commander in Serbia\t486232396\t2012-04-08T09:56:17Z\tisbn\t9780198228875\n",
      "2012\t4976079\tTerritory of the Military Commander in Serbia\t485887625\t2012-04-06T12:08:31Z\tisbn\t9780313312908\n",
      "2012\t4976079\tTerritory of the Military Commander in Serbia\t485871226\t2012-04-06T10:00:01Z\tisbn\t9780803259799\n",
      "2012\t4976079\tTerritory of the Military Commander in Serbia\t489450400\t2012-04-27T10:38:03Z\tisbn\t9780807820667\n",
      "2012\t4976079\tTerritory of the Military Commander in Serbia\t507528019\t2012-08-15T13:00:35Z\tisbn\t0896730719\n",
      "2012\t4976079\tTerritory of the Military Commander in Serbia\t486237399\t2012-04-08T10:44:15Z\tisbn\t9780761836476\n",
      "2012\t4976079\tTerritory of the Military Commander in Serbia\t485866577\t2012-04-06T09:22:52Z\tisbn\t9781891227387\n",
      "2012\t4976079\tTerritory of the Military Commander in Serbia\t485850073\t2012-04-06T06:39:52Z\tisbn\t9780783557199\n",
      "2012\t4976079\tTerritory of the Military Commander in Serbia\t510093202\t2012-08-31T10:57:46Z\tisbn\t1576072940\n",
      "2012\t4976079\tTerritory of the Military Commander in Serbia\t486226169\t2012-04-08T08:54:22Z\tisbn\t9781850654766\n",
      "2012\t4976079\tTerritory of the Military Commander in Serbia\t507525135\t2012-08-15T12:35:02Z\tisbn\t1563246767\n",
      "2012\t4976079\tTerritory of the Military Commander in Serbia\t485890435\t2012-04-06T12:29:03Z\tisbn\t9780880331395\n",
      "2012\t4731980\tSerbian Campaign of World War I\t487567611\t2012-04-15T21:33:50Z\tisbn\t9780674018808\n",
      "2012\t5701105\tMutimir of Serbia\t491123224\t2012-05-07T04:31:18Z\tisbn\t9789004082656\n",
      "2012\t5701105\tMutimir of Serbia\t491123224\t2012-05-07T04:31:18Z\tisbn\t9780631204718\n",
      "2012\t5701105\tMutimir of Serbia\t491123224\t2012-05-07T04:31:18Z\tisbn\t9781605204215\n",
      "2012\t5218056\tSerbian State Guard\t501722368\t2012-07-11T13:57:03Z\tisbn\t9781850654766\n",
      "2012\t5861152\tGreece–Serbia relations\t490097738\t2012-05-01T09:41:57Z\tisbn\t9781585442263\n",
      "2012\t7329448\tSerbian parliamentary election, 2007\t482075647\t2012-03-15T19:31:22Z\tisbn\t9783832956097\n",
      "2012\t8056034\tSerbian nationalism\t480589989\t2012-03-07T01:42:26Z\tisbn\t9780815606024\n",
      "2012\t9712537\tMoravian Serbia\t482748197\t2012-03-19T16:52:11Z\tisbn\t9789607309587\n",
      "2012\t9712537\tMoravian Serbia\t482748197\t2012-03-19T16:52:11Z\tisbn\t8683565017\n",
      "2012\t9712537\tMoravian Serbia\t482748197\t2012-03-19T16:52:11Z\tisbn\t0472082604\n",
      "2012\t9521899\tSerbian Cyrillic alphabet\t491610467\t2012-05-09T15:09:48Z\tisbn\t9781557534774\n",
      "2012\t11507396\tDemographic history of Serbian Banat\t495320281\t2012-05-31T16:48:50Z\tisbn\t8684433513\n",
      "2012\t12562598\tList of populated places in Serbia\t490865301\t2012-05-05T22:54:06Z\tisbn\t8684433009\n",
      "2012\t12577319\tList of populated places in Serbia (alphabetic)\t490867677\t2012-05-05T23:01:22Z\tisbn\t8684433009\n",
      "2012\t12608133\tSerbian River Flotilla\t499357169\t2012-06-25T22:53:24Z\tisbn\t0870219839\n",
      "2012\t16593639\tFantasy on Serbian Themes\t510119774\t2012-08-31T14:40:54Z\tisbn\t0393075354\n",
      "2012\t17102950\tRussia–Serbia relations\t511329902\t2012-09-08T04:47:51Z\tisbn\t9781585675029\n",
      "2012\t17102950\tRussia–Serbia relations\t511325775\t2012-09-08T03:59:19Z\tisbn\t9780375411564\n",
      "2012\t17985942\tCapital punishment in Serbia\t512375212\t2012-09-14T10:54:54Z\tisbn\t8672020510\n",
      "2012\t17985942\tCapital punishment in Serbia\t512367814\t2012-09-14T10:08:19Z\tisbn\t9788651912323\n",
      "2012\t15996489\tSerbia–United States relations\t488740258\t2012-04-23T00:57:58Z\tisbn\t9780801441585\n",
      "2012\t15996489\tSerbia–United States relations\t488741292\t2012-04-23T01:08:07Z\tisbn\t9780253346568\n",
      "2012\t19238338\tEternal derby (Serbia)\t510295723\t2012-09-01T16:29:13Z\tisbn\t9788685627071\n",
      "2012\t17560577\tSerbian–Montenegrin unionism\t493587238\t2012-05-21T00:42:49Z\tisbn\t0122272307\n",
      "2012\t17560577\tSerbian–Montenegrin unionism\t502831955\t2012-07-17T18:11:34Z\tisbn\t9780801446016\n",
      "2012\t18970473\tMedieval Serbian army\t528051890\t2012-12-14T19:14:16Z\tisbn\t9789607309587\n",
      "2012\t18970473\tMedieval Serbian army\t528051890\t2012-12-14T19:14:16Z\tisbn\t8683565017\n",
      "2012\t18970473\tMedieval Serbian army\t528051890\t2012-12-14T19:14:16Z\tisbn\t0472082604\n",
      "2012\t18970473\tMedieval Serbian army\t487085279\t2012-04-12T23:32:37Z\tisbn\t9781846030147\n",
      "2012\t18970473\tMedieval Serbian army\t487085279\t2012-04-12T23:32:37Z\tisbn\t0852295030\n",
      "2012\t18466567\tPribislav of Serbia\t492062995\t2012-05-11T19:47:01Z\tisbn\t9780631204718\n",
      "2012\t18466567\tPribislav of Serbia\t492062995\t2012-05-11T19:47:01Z\tisbn\t9781605204215\n",
      "2012\t18883160\tRomanization of Serbian\t487966271\t2012-04-18T07:40:13Z\tisbn\t0804745943\n",
      "2012\t18883160\tRomanization of Serbian\t487966271\t2012-04-18T07:40:13Z\tisbn\t0191514551\n",
      "2012\t21247907\tUroš II, Grand Prince of Serbia\t491608278\t2012-05-09T14:57:46Z\tisbn\t9780231040808\n",
      "2012\t21247907\tUroš II, Grand Prince of Serbia\t491608278\t2012-05-09T14:57:46Z\tisbn\t9780631204718\n",
      "2012\t20675738\tMontenegro–Serbia relations\t503760445\t2012-07-23T12:35:31Z\tisbn\t9783832956097\n",
      "2012\t27317772\tGrabovnica, Serbia\t483099551\t2012-03-21T11:30:57Z\tisbn\t8684433009\n",
      "2012\t26653707\tZaharija of Serbia\t491805002\t2012-05-10T14:24:35Z\tisbn\t9780631204718\n",
      "2012\t26653707\tZaharija of Serbia\t491805002\t2012-05-10T14:24:35Z\tisbn\t9781605204215\n",
      "2012\t25062797\tUroš I, Grand Prince of Serbia\t492094186\t2012-05-11T22:51:16Z\tisbn\t0231040806\n",
      "2012\t27394254\tTulovo, Serbia\t483105267\t2012-03-21T11:54:57Z\tisbn\t8684433009\n",
      "2012\t27453297\tKlenovac, Serbia\t483108033\t2012-03-21T12:06:47Z\tisbn\t8684433009\n",
      "2012\t29287807\tThe Holocaust in Serbia\t501716740\t2012-07-11T13:13:25Z\tisbn\t9781850654766\n",
      "2012\t29301855\tSerbian titles\t486466171\t2012-04-09T17:38:25Z\tisbn\t0748602097\n",
      "2012\t29301855\tSerbian titles\t486463872\t2012-04-09T17:26:29Z\tisbn\t8683565017\n",
      "2012\t27713885\tKlokočevac, Serbia\t483109952\t2012-03-21T12:19:00Z\tisbn\t8684433009\n",
      "2012\t27946361\tVrban, Serbia\t483111832\t2012-03-21T12:28:26Z\tisbn\t8684433009\n",
      "2012\t27946540\tGornji Lipovac, Serbia\t483112901\t2012-03-21T12:33:51Z\tisbn\t8684433009\n",
      "2012\t25949287\tPavle of Serbia\t491896695\t2012-05-10T23:32:34Z\tisbn\t9781605204215\n",
      "2012\t25949287\tPavle of Serbia\t491896695\t2012-05-10T23:32:34Z\tisbn\t9780631204718\n",
      "2012\t28859615\tDoliće, Serbia\t483121146\t2012-03-21T13:15:51Z\tisbn\t8684433009\n",
      "2012\t27308258\tGradinje, Serbia\t483099096\t2012-03-21T11:29:21Z\tisbn\t8684433009\n",
      "2012\t28867117\tBlaca, Serbia\t483122074\t2012-03-21T13:19:20Z\tisbn\t8684433009\n",
      "2012\t28087534\tStančići, Serbia\t483114023\t2012-03-21T12:41:00Z\tisbn\t8684433009\n",
      "2012\t28088171\tPuhovo, Serbia\t483117109\t2012-03-21T12:57:00Z\tisbn\t8684433009\n",
      "2012\t28132615\tBranešci, Serbia\t483117536\t2012-03-21T12:59:37Z\tisbn\t8684433009\n",
      "2012\t28132702\tRudine, Serbia\t483117775\t2012-03-21T13:00:53Z\tisbn\t8684433009\n",
      "2012\t28938683\tLeva Reka, Serbia\t483124448\t2012-03-21T13:27:49Z\tisbn\t8684433009\n",
      "2012\t31292300\tSerbian Kovin Monastery\t480267796\t2012-03-05T04:36:16Z\tisbn\t8607004808\n",
      "2012\t31292300\tSerbian Kovin Monastery\t480267796\t2012-03-05T04:36:16Z\tisbn\t9788685869365\n",
      "2012\t31292300\tSerbian Kovin Monastery\t491813100\t2012-05-10T15:11:41Z\tisbn\t9788683505760\n",
      "2012\t32323380\tAxis occupation of Serbia\t506571381\t2012-08-09T15:23:11Z\tisbn\t9788674030233\n",
      "2012\t32323380\tAxis occupation of Serbia\t506565375\t2012-08-09T14:38:10Z\tisbn\t9789536045198\n",
      "2012\t32323380\tAxis occupation of Serbia\t506566343\t2012-08-09T14:46:07Z\tisbn\t9788682065029\n",
      "2012\t32323380\tAxis occupation of Serbia\t506536145\t2012-08-09T10:12:51Z\tisbn\t0804708576\n",
      "2012\t33230794\t9th century in Serbia\t513978332\t2012-09-22T06:33:33Z\tisbn\t9780884020219\n",
      "2012\t31378963\tSerbian Grand Principality\t490601012\t2012-05-04T08:18:30Z\tisbn\t047211414X\n",
      "2012\t35482318\tHistorical administrative divisions of Serbia\t487316633\t2012-04-14T10:19:49Z\tisbn\t1605200050\n",
      "2012\t35482318\tHistorical administrative divisions of Serbia\t487316633\t2012-04-14T10:19:49Z\tisbn\t0521770173\n",
      "2012\t35482318\tHistorical administrative divisions of Serbia\t487316633\t2012-04-14T10:19:49Z\tisbn\t1602062706\n",
      "2012\t35482318\tHistorical administrative divisions of Serbia\t487316633\t2012-04-14T10:19:49Z\tisbn\t0631204717\n",
      "2012\t35482318\tHistorical administrative divisions of Serbia\t487316633\t2012-04-14T10:19:49Z\tisbn\t9004082654\n",
      "2012\t35482318\tHistorical administrative divisions of Serbia\t487316633\t2012-04-14T10:19:49Z\tdoi\t10.2298/ZRVI1047055K\n",
      "2012\t35482318\tHistorical administrative divisions of Serbia\t487316633\t2012-04-14T10:19:49Z\tisbn\t9781580573146\n",
      "2012\t35482318\tHistorical administrative divisions of Serbia\t487316633\t2012-04-14T10:19:49Z\tisbn\t0472081497\n",
      "2012\t35482318\tHistorical administrative divisions of Serbia\t487316633\t2012-04-14T10:19:49Z\tisbn\t1605204218\n",
      "2012\t35482318\tHistorical administrative divisions of Serbia\t487316633\t2012-04-14T10:19:49Z\tisbn\t9788683883080\n",
      "2012\t35482318\tHistorical administrative divisions of Serbia\t487316633\t2012-04-14T10:19:49Z\tisbn\t8617137541\n",
      "2012\t35482318\tHistorical administrative divisions of Serbia\t487316633\t2012-04-14T10:19:49Z\tisbn\t0002170450\n",
      "2012\t34347678\tAssociation of Writers of Serbia\t481058976\t2012-03-09T20:29:06Z\tisbn\t9780253346568\n",
      "2012\t34354820\tChristianity in Serbia\t470918426\t2012-01-12T04:58:49Z\tisbn\t0810858460\n",
      "2012\t33466421\tRatković, Serbia\t483134532\t2012-03-21T14:09:42Z\tisbn\t8684433009\n",
      "2012\t33473780\tRadovanje, Serbia\t483135708\t2012-03-21T14:14:56Z\tisbn\t8684433009\n",
      "2012\t33475070\tZagorica, Serbia\t483137340\t2012-03-21T14:21:52Z\tisbn\t8684433009\n",
      "2012\t35736313\tImperial and Royal Military Administration in Serbia\t491013639\t2012-05-06T16:31:41Z\tisbn\t1557534764\n",
      "2012\t36473149\tSerbia and Montenegro men's national under-18 ice hockey team\t502977396\t2012-07-18T15:56:00Z\tisbn\t3833441895\n",
      "2012\t36560426\tAssociation of Serbian Youth\t504460593\t2012-07-27T17:20:28Z\tisbn\t9789637326608\n",
      "2012\t32968285\tIsakovo, Serbia\t483128708\t2012-03-21T13:43:41Z\tisbn\t8684433009\n",
      "2012\t32968906\tLukar, Serbia\t483129174\t2012-03-21T13:45:30Z\tisbn\t8684433009\n",
      "2012\t27289\tSerbia and Montenegro\t530268143\t2012-12-29T08:40:39Z\tisbn\t9781563243097\n",
      "2012\t29265\tSerbia\t517551549\t2012-10-13T10:33:46Z\tisbn\t0231700504\n",
      "2012\t29265\tSerbia\t506355207\t2012-08-08T07:18:36Z\tisbn\t0816062595\n",
      "2012\t29265\tSerbia\t474774321\t2012-02-03T12:10:48Z\tisbn\t9780860915935\n",
      "2012\t236637\tStephen Uroš IV Dušan of Serbia\t470927105\t2012-01-12T06:40:41Z\tdoi\t10.2298/ZRVI0744381P\n",
      "2012\t236637\tStephen Uroš IV Dušan of Serbia\t470924380\t2012-01-12T06:06:27Z\tisbn\t9780195046526\n",
      "2012\t236637\tStephen Uroš IV Dušan of Serbia\t473170701\t2012-01-25T15:38:48Z\tisbn\t9780472082605\n",
      "2012\t236637\tStephen Uroš IV Dušan of Serbia\t473170701\t2012-01-25T15:38:48Z\tisbn\t9780312121167\n",
      "2012\t236637\tStephen Uroš IV Dušan of Serbia\t473170701\t2012-01-25T15:38:48Z\tisbn\t0521439914\n",
      "2012\t236637\tStephen Uroš IV Dušan of Serbia\t473170701\t2012-01-25T15:38:48Z\tisbn\t9783640401284\n",
      "2012\t236637\tStephen Uroš IV Dušan of Serbia\t473170701\t2012-01-25T15:38:48Z\tisbn\t0295972904\n",
      "2012\t236637\tStephen Uroš IV Dušan of Serbia\t483815562\t2012-03-25T07:55:29Z\tisbn\t9780300117868\n",
      "2012\t276571\tPrincipality of Serbia (medieval)\t483944543\t2012-03-26T01:59:38Z\tisbn\t1605200050\n",
      "2012\t276571\tPrincipality of Serbia (medieval)\t483944543\t2012-03-26T01:59:38Z\tisbn\t0521770173\n",
      "2012\t276571\tPrincipality of Serbia (medieval)\t483944543\t2012-03-26T01:59:38Z\tisbn\t1602062706\n",
      "2012\t276571\tPrincipality of Serbia (medieval)\t483944543\t2012-03-26T01:59:38Z\tisbn\t0631204717\n",
      "2012\t276571\tPrincipality of Serbia (medieval)\t483944543\t2012-03-26T01:59:38Z\tisbn\t9004082654\n",
      "2012\t276571\tPrincipality of Serbia (medieval)\t483944543\t2012-03-26T01:59:38Z\tdoi\t10.2298/ZRVI1047055K\n",
      "2012\t276571\tPrincipality of Serbia (medieval)\t483944543\t2012-03-26T01:59:38Z\tisbn\t9781580573146\n",
      "2012\t276571\tPrincipality of Serbia (medieval)\t483944543\t2012-03-26T01:59:38Z\tisbn\t0472081497\n",
      "2012\t276571\tPrincipality of Serbia (medieval)\t483944543\t2012-03-26T01:59:38Z\tisbn\t1605204218\n",
      "2012\t276571\tPrincipality of Serbia (medieval)\t483944543\t2012-03-26T01:59:38Z\tisbn\t9788683883080\n",
      "2012\t276571\tPrincipality of Serbia (medieval)\t483949462\t2012-03-26T02:42:51Z\tisbn\t9780521074599\n",
      "2012\t276571\tPrincipality of Serbia (medieval)\t483944543\t2012-03-26T01:59:38Z\tisbn\t8617137541\n",
      "2012\t276571\tPrincipality of Serbia (medieval)\t483944543\t2012-03-26T01:59:38Z\tisbn\t0002170450\n",
      "2012\t326125\tLazar of Serbia\t482084931\t2012-03-15T20:30:48Z\tisbn\t0472082604\n",
      "2012\t326125\tLazar of Serbia\t515993261\t2012-10-04T17:12:56Z\tisbn\t9788763505048\n",
      "2012\t326125\tLazar of Serbia\t482084931\t2012-03-15T20:30:48Z\tisbn\t8635504526\n",
      "2012\t326125\tLazar of Serbia\t515993261\t2012-10-04T17:12:56Z\tisbn\t9789992287552\n",
      "2012\t326125\tLazar of Serbia\t517238305\t2012-10-11T17:47:34Z\tisbn\t9788651501640\n",
      "2012\t326125\tLazar of Serbia\t482540576\t2012-03-18T13:56:54Z\tisbn\t9780472114146\n",
      "2012\t326125\tLazar of Serbia\t482084931\t2012-03-15T20:30:48Z\tisbn\t9789607309587\n",
      "2012\t326125\tLazar of Serbia\t482084931\t2012-03-15T20:30:48Z\tisbn\t8683565017\n",
      "2012\t295461\tComparison of standard Bosnian, Croatian and Serbian\t506416621\t2012-08-08T16:49:07Z\tisbn\t9783631570104\n",
      "2012\t295461\tComparison of standard Bosnian, Croatian and Serbian\t506416621\t2012-08-08T16:49:07Z\tisbn\t3825898911\n",
      "2012\t295461\tComparison of standard Bosnian, Croatian and Serbian\t506416621\t2012-08-08T16:49:07Z\tisbn\t9783929075793\n",
      "2012\t295461\tComparison of standard Bosnian, Croatian and Serbian\t506416621\t2012-08-08T16:49:07Z\tisbn\t9789531883115\n",
      "2012\t344447\tSerbian Orthodox Church\t524255280\t2012-11-21T21:52:15Z\tisbn\t9780300158267\n",
      "2012\t416500\tSerbian parliamentary election, 2003\t482070238\t2012-03-15T18:59:56Z\tisbn\t9783832956097\n",
      "2012\t417945\tGreater Serbia\t469380141\t2012-01-03T19:38:30Z\tisbn\t9780253346568\n",
      "2012\t667958\tCentral Serbia\t495246244\t2012-05-31T05:19:19Z\tisbn\t8684433513\n",
      "2012\t526399\tRepublic of Serbian Krajina\t501999472\t2012-07-13T04:08:22Z\tisbn\t9788683809547\n",
      "2012\t526399\tRepublic of Serbian Krajina\t501999472\t2012-07-13T04:08:22Z\tisbn\t8683905055\n",
      "2012\t526399\tRepublic of Serbian Krajina\t501999472\t2012-07-13T04:08:22Z\tisbn\t8683905047\n",
      "2012\t526399\tRepublic of Serbian Krajina\t501999472\t2012-07-13T04:08:22Z\tisbn\t9789993853749\n",
      "2012\t526399\tRepublic of Serbian Krajina\t501999472\t2012-07-13T04:08:22Z\tisbn\t8682393018\n"
     ]
    }
   ],
   "source": [
    "!grep Serbia 2012_doi_and_pubmed_citations.tsv"
   ]
  },
  {
   "cell_type": "markdown",
   "metadata": {},
   "source": [
    "We might also want to search records about France or England (we'll go for case-insensitive this time) in the whole dataset and write the results into a new file."
   ]
  },
  {
   "cell_type": "code",
   "execution_count": 30,
   "metadata": {
    "collapsed": false
   },
   "outputs": [],
   "source": [
    "!grep -i -e France -e England all_doi_and_pubmed_citations.tsv > france_england_citations.tsv"
   ]
  },
  {
   "cell_type": "code",
   "execution_count": 31,
   "metadata": {
    "collapsed": false
   },
   "outputs": [
    {
     "name": "stdout",
     "output_type": "stream",
     "text": [
      "    7835 france_england_citations.tsv\r\n"
     ]
    }
   ],
   "source": [
    "!wc -l france_england_citations.tsv"
   ]
  }
 ],
 "metadata": {
  "kernelspec": {
   "display_name": "Python 3",
   "language": "python",
   "name": "python3"
  },
  "language_info": {
   "codemirror_mode": {
    "name": "ipython",
    "version": 3
   },
   "file_extension": ".py",
   "mimetype": "text/x-python",
   "name": "python",
   "nbconvert_exporter": "python",
   "pygments_lexer": "ipython3",
   "version": "3.4.3"
  }
 },
 "nbformat": 4,
 "nbformat_minor": 0
}
